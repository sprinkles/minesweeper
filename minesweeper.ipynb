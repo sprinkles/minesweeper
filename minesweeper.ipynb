{
 "metadata": {
  "name": "",
  "signature": "sha256:11de95c4e6564380e3b8d8861c4310f4be2dc09c65a9114ef0d7e4849de2fc29"
 },
 "nbformat": 3,
 "nbformat_minor": 0,
 "worksheets": [
  {
   "cells": [
    {
     "cell_type": "code",
     "collapsed": true,
     "input": [
      "import sys\n",
      "import random\n",
      "import os\n"
     ],
     "language": "python",
     "metadata": {},
     "outputs": [],
     "prompt_number": 1
    },
    {
     "cell_type": "code",
     "collapsed": true,
     "input": [
      "#get this from sys.arg\n",
      "rows=5\n",
      "cols=9\n",
      "bombs=10\n"
     ],
     "language": "python",
     "metadata": {},
     "outputs": [],
     "prompt_number": 2
    },
    {
     "cell_type": "code",
     "collapsed": true,
     "input": [
      "#level0\n",
      "def createBoard(rows,cols):  \n",
      "    return [['0']*cols for i in range(rows)]           "
     ],
     "language": "python",
     "metadata": {},
     "outputs": [],
     "prompt_number": 3
    },
    {
     "cell_type": "code",
     "collapsed": true,
     "input": [
      "#level0\n",
      "def initBoard(board):                                                                   \n",
      "    rows = len(board) \n",
      "    cols = len(board[0]) \n",
      "    return [['-']*cols for i in range(rows)] \n",
      "            "
     ],
     "language": "python",
     "metadata": {},
     "outputs": [],
     "prompt_number": 4
    },
    {
     "cell_type": "code",
     "collapsed": true,
     "input": [
      "#level0\n",
      "def placeBombs(bombs,board):                                                            \n",
      "    rows = len(board)                                                                   \n",
      "    cols = len(board[0])                                                                \n",
      "    mines=[]                                                                             \n",
      "    while(bombs):                                                                       \n",
      "        randr = random.randint(0,rows-1) \n",
      "        randc = random.randint(0,cols-1)                                                  \n",
      "        if (randr,randc) not in mines:                                                                 \n",
      "            board[randr][randc]='B'\n",
      "            mines.append((randr,randc))\n",
      "            #print(mines)\n",
      "            bombs-=1\n",
      "    return mines\n"
     ],
     "language": "python",
     "metadata": {},
     "outputs": [],
     "prompt_number": 5
    },
    {
     "cell_type": "code",
     "collapsed": false,
     "input": [
      "print(mines)"
     ],
     "language": "python",
     "metadata": {},
     "outputs": [
      {
       "output_type": "stream",
       "stream": "stdout",
       "text": [
        "[(0, 4), (2, 5), (0, 6), (4, 7), (0, 5), (3, 3), (1, 3), (4, 5), (1, 0), (4, 8)]\n"
       ]
      }
     ],
     "prompt_number": 25
    },
    {
     "cell_type": "code",
     "collapsed": true,
     "input": [
      "#level1, but really level0\n",
      "def displayBoard(board):\n",
      "    \"\"\"Prints the board with indices\"\"\"\n",
      "    rows = len(board)                                                                   \n",
      "    cols = len(board[0])\n",
      "    for r in range(-1,rows):                                                               \n",
      "        for c in range(-1,cols):\n",
      "            if r==c==-1:\n",
      "                print(end=\"   \")\n",
      "            print(str(c) if r==-1 and c>-1 else '',end=\" \")\n",
      "            print(str(r) if c==-1 and r>-1 else '',end=\" \")\n",
      "            if r>-1 and c>-1:\n",
      "                print(board[r][c], end=\"\")                                                \n",
      "        print()                                                                         \n",
      "    return "
     ],
     "language": "python",
     "metadata": {},
     "outputs": [],
     "prompt_number": 6
    },
    {
     "cell_type": "code",
     "collapsed": true,
     "input": [
      "#level0\n",
      "def calcAdj(board,loc):                                                                  \n",
      "    row = loc[0]   \n",
      "    col = loc[1]\n",
      "    total=0\n",
      "    for r in range(row-1,row+2):\n",
      "        if r<0: continue\n",
      "        for c in range(col-1,col+2):\n",
      "            if c<0: continue\n",
      "            try:\n",
      "                board[r][c]\n",
      "            except IndexError:\n",
      "                continue\n",
      "            else:\n",
      "                total+=1 if board[r][c] == 'B' else 0 \n",
      "    return total   "
     ],
     "language": "python",
     "metadata": {},
     "outputs": [],
     "prompt_number": 7
    },
    {
     "cell_type": "code",
     "collapsed": true,
     "input": [
      "#level0\n",
      "def placeBombCount(board):\n",
      "    rows = len(board) \n",
      "    cols = len(board[0])\n",
      "    for r in range(0,rows):                                                               \n",
      "        for c in range(0,cols):\n",
      "            if board[r][c] != 'B':\n",
      "                board[r][c]=calcAdj(board,(r,c))\n",
      "    \n",
      "    #return board[calcAdj(mboard,loc(r,c)) for c in range(cols) for r in range(rows)]\n",
      "    return board\n",
      "    "
     ],
     "language": "python",
     "metadata": {},
     "outputs": [],
     "prompt_number": 10
    },
    {
     "cell_type": "code",
     "collapsed": true,
     "input": [
      "#test\n",
      "mboard=createBoard(rows,cols)\n",
      "mboard=initBoard(mboard)\n",
      "displayBoard(mboard)\n",
      "mines = placeBombs(bombs,mboard)\n",
      "displayBoard(mboard)"
     ],
     "language": "python",
     "metadata": {},
     "outputs": [
      {
       "output_type": "stream",
       "stream": "stdout",
       "text": [
        "     0  1  2  3  4  5  6  7  8  \n",
        " 0   -  -  -  -  -  -  -  -  -\n",
        " 1   -  -  -  -  -  -  -  -  -\n",
        " 2   -  -  -  -  -  -  -  -  -\n",
        " 3   -  -  -  -  -  -  -  -  -\n",
        " 4   -  -  -  -  -  -  -  -  -\n",
        "     0  1  2  3  4  5  6  7  8  \n",
        " 0   -  -  B  -  -  -  -  -  -\n",
        " 1   -  -  -  -  -  -  -  -  -\n",
        " 2   B  -  -  -  B  -  -  -  B\n",
        " 3   -  B  B  -  B  B  -  -  -\n",
        " 4   -  -  -  -  B  -  -  B  -\n"
       ]
      }
     ],
     "prompt_number": 8
    },
    {
     "cell_type": "code",
     "collapsed": false,
     "input": [
      "#test\n",
      "loc=(5,9)\n",
      "displayBoard(mboard)\n",
      "#calcAdj(mboard,loc)\n",
      "mboard=placeBombCount(mboard)\n",
      "displayBoard(mboard)"
     ],
     "language": "python",
     "metadata": {},
     "outputs": [
      {
       "output_type": "stream",
       "stream": "stdout",
       "text": [
        "     0  1  2  3  4  5  6  7  8  \n",
        " 0   -  -  B  -  -  -  -  -  -\n",
        " 1   -  -  -  -  -  -  -  -  -\n",
        " 2   B  -  -  -  B  -  -  -  B\n",
        " 3   -  B  B  -  B  B  -  -  -\n",
        " 4   -  -  -  -  B  -  -  B  -\n",
        "     0  1  2  3  4  5  6  7  8  \n",
        " 0   0  1  B  1  0  0  0  0  0\n",
        " 1   1  2  1  2  1  1  0  1  1\n",
        " 2   B  3  2  3  B  3  1  1  B\n",
        " 3   2  B  B  4  B  B  2  2  2\n",
        " 4   1  2  2  3  B  3  2  B  1\n"
       ]
      }
     ],
     "prompt_number": 11
    },
    {
     "cell_type": "code",
     "collapsed": false,
     "input": [
      "#may use this for showcell\n",
      "def getNeighbors(board,loc):\n",
      "    row = loc[0]\n",
      "    column = loc[1]\n",
      "    rows=len(board)\n",
      "    cols=len(board[0])\n",
      "    \n",
      "    neighbors = []\n",
      " \n",
      "    for i in range(-1,2):\n",
      "        for j in range(-1,2):\n",
      "            if i == 0 and j == 0: continue\n",
      "            elif -1<row+i<rows and -1<col+j<cols:\n",
      "                neighbors.append((row+i,col+j))\n",
      "    return neighbors\n"
     ],
     "language": "python",
     "metadata": {},
     "outputs": [],
     "prompt_number": 12
    },
    {
     "cell_type": "code",
     "collapsed": false,
     "input": [
      "#game.py #maybe not needed\n",
      "def playagain():\n",
      "    choice = input('Play again? (y/n): ')\n",
      "    return choice.lower() == 'y'"
     ],
     "language": "python",
     "metadata": {},
     "outputs": [],
     "prompt_number": 11
    },
    {
     "cell_type": "code",
     "collapsed": false,
     "input": [
      "#test\n",
      "sboard=createBoard(rows,cols)\n",
      "sboard=initBoard(sboard)\n",
      "displayBoard(sboard)"
     ],
     "language": "python",
     "metadata": {},
     "outputs": [
      {
       "output_type": "stream",
       "stream": "stdout",
       "text": [
        "     0  1  2  3  4  5  6  7  8  \n",
        " 0   -  -  -  -  -  -  -  -  -\n",
        " 1   -  -  -  -  -  -  -  -  -\n",
        " 2   -  -  -  -  -  -  -  -  -\n",
        " 3   -  -  -  -  -  -  -  -  -\n",
        " 4   -  -  -  -  -  -  -  -  -\n"
       ]
      }
     ],
     "prompt_number": 8
    },
    {
     "cell_type": "code",
     "collapsed": true,
     "input": [
      "#game.py\n",
      "def playGame():\n",
      "    rows=5\n",
      "    cols=9\n",
      "    bombs=10\n",
      "    sboard=createBoard(rows,cols)\n",
      "    sboard=initBoard(sboard)\n",
      "    mboard=createBoard(rows,cols)\n",
      "    mboard=initBoard(mboard)\n",
      "    displayBoard(mboard)\n",
      "    mines = placeBombs(bombs,mboard)\n",
      "    mboard = placeBombCount(mboard)\n",
      "    displayBoard(mboard)\n",
      "    displayBoard(sboard)\n",
      "    whatsleft=[]\n",
      "    \n",
      "    while True:\n",
      "        print(\"Which square do you wish to uncover?\")\n",
      "        loc=[int(x) for x in input(\"Enter a row <space> column:\").split(\" \")]\n",
      "        try:\n",
      "            #loc=[int(x) for x in input(\"Enter a row <space> column:\").split(\" \")]\n",
      "            if rows>loc[0] and cols>loc[1]:\n",
      "                print('exists')\n",
      "                showCell(sboard,mboard,loc)\n",
      "        except:\n",
      "            print('hitting e')\n",
      "            pass\n",
      "        continue\n",
      "        if '-' in [x for row in sboard for x in row]:\n",
      "            continue\n",
      "        else:\n",
      "            print('no more!')\n",
      "            print('you may have won')\n",
      "            if playagain(): playgame()\n",
      "            else: exit()\n",
      "            \n",
      "         #if set(whatsleft)==set(mines):\n",
      "          #  print 'You Win'\n",
      "           # if playagain(): playgame()\n",
      "            #else: exit()\n",
      "        #else:\n",
      "         #   print('else')\n",
      "          #  print(\"You're doing it wrong!\")\n",
      "           # break\n",
      "   \n",
      "    \n",
      "playGame()"
     ],
     "language": "python",
     "metadata": {},
     "outputs": []
    },
    {
     "cell_type": "code",
     "collapsed": false,
     "input": [
      "#---\n",
      "# file:gameio.py\n",
      "# level:2\n",
      "#---\n",
      "def goBoom():\n",
      "    boomstring = \"\"\"\\\n",
      "    .  xxxx     xxx    xxx    x     x   xx\n",
      "    .  xx  x   xx xx  xx xx   xx   xx   xx\n",
      "    .  xxxx    xx xx  xx xx   x x x x   xx\n",
      "    .  xx  x   xx xx  xx xx   x  x  x  \n",
      "    .  xxxx     xxx    xxx    x     x   xx\n",
      "    \"\"\"\n",
      "    print(boomstring)\n",
      "    #endGame()\n",
      "goBoom()"
     ],
     "language": "python",
     "metadata": {},
     "outputs": [
      {
       "output_type": "stream",
       "stream": "stdout",
       "text": [
        "    .  xxxx     xxx    xxx    x     x   xx\n",
        "    .  xx  x   xx xx  xx xx   xx   xx   xx\n",
        "    .  xxxx    xx xx  xx xx   x x x x   xx\n",
        "    .  xx  x   xx xx  xx xx   x  x  x  \n",
        "    .  xxxx     xxx    xxx    x     x   xx\n",
        "    \n"
       ]
      }
     ],
     "prompt_number": 13
    },
    {
     "cell_type": "code",
     "collapsed": false,
     "input": [
      "def goBoomBigger():\n",
      "    bombstring = \"\"\"                       \n",
      "                         \\|/                          \n",
      "                       `--+--'                        \n",
      "                         /|\\                          \n",
      "                        ' | '                         \n",
      "                          |                           \n",
      "                          |                           \n",
      "                      ,--'#`--.                       \n",
      "                      |#######|                       \n",
      "                   _.-'#######`-._                    \n",
      "                ,-'###############`-.                 \n",
      "              ,'#####################`,               \n",
      "             /#########################\\              \n",
      "            |###########################|             \n",
      "           |#############################|            \n",
      "           |#############################|            \n",
      "           |#############################|            \n",
      "           |#############################|            \n",
      "            |###########################|             \n",
      "             \\#########################/              \n",
      "              `.#####################,'               \n",
      "                `._###############_,'                 \n",
      "                   `--..#####..--'\n",
      "    \"\"\"\n",
      "    print(bombstring)\n",
      "goBoomBigger()               "
     ],
     "language": "python",
     "metadata": {},
     "outputs": [
      {
       "output_type": "stream",
       "stream": "stdout",
       "text": [
        "                       \n",
        "                         \\|/                          \n",
        "                       `--+--'                        \n",
        "                         /|\\                          \n",
        "                        ' | '                         \n",
        "                          |                           \n",
        "                          |                           \n",
        "                      ,--'#`--.                       \n",
        "                      |#######|                       \n",
        "                   _.-'#######`-._                    \n",
        "                ,-'###############`-.                 \n",
        "              ,'#####################`,               \n",
        "             /#########################\\              \n",
        "            |###########################|             \n",
        "           |#############################|            \n",
        "           |#############################|            \n",
        "           |#############################|            \n",
        "           |#############################|            \n",
        "            |###########################|             \n",
        "             \\#########################/              \n",
        "              `.#####################,'               \n",
        "                `._###############_,'                 \n",
        "                   `--..#####..--'\n",
        "    \n"
       ]
      }
     ],
     "prompt_number": 14
    },
    {
     "cell_type": "code",
     "collapsed": false,
     "input": [
      "#level0.py\n",
      "## createBoard(rows,cols): returns empty matrix?\n",
      "## initBoard(sboard): returns covered matrix\n",
      "## placeBombs(mboard,bombs): returns mines[] and places 'B's on mboard\n",
      "## checkAdj(mboard,loc): returns total adj\n",
      "## placeBombCount(mboard,loc) via checkAdj\n",
      "\n",
      "#import game\n",
      "\n",
      "rows=5\n",
      "cols=9\n",
      "bombs=10\n",
      "\n",
      "sboard=createBoard(rows,cols)\n",
      "print('sboard is here!')\n",
      "displayBoard(sboard)\n",
      "\n",
      "sboard=initBoard(sboard)\n",
      "print('sboard is covered!')\n",
      "displayBoard(sboard)\n",
      "\n",
      "mboard=createBoard(rows,cols)\n",
      "print('mboard is here!')\n",
      "displayBoard(mboard)\n",
      "    \n",
      "mines = placeBombs(bombs,mboard)\n",
      "print('mboard has bombs!')\n",
      "displayBoard(mboard)\n",
      "\n",
      "mboard = placeBombCount(mboard)\n",
      "print('mboard has bomb counts!')\n",
      "displayBoard(mboard)\n",
      "\n"
     ],
     "language": "python",
     "metadata": {},
     "outputs": [
      {
       "output_type": "stream",
       "stream": "stdout",
       "text": [
        "sboard is here!\n",
        "     0  1  2  3  4  5  6  7  8  \n",
        " 0   0  0  0  0  0  0  0  0  0\n",
        " 1   0  0  0  0  0  0  0  0  0\n",
        " 2   0  0  0  0  0  0  0  0  0\n",
        " 3   0  0  0  0  0  0  0  0  0\n",
        " 4   0  0  0  0  0  0  0  0  0\n",
        "sboard is covered!\n",
        "     0  1  2  3  4  5  6  7  8  \n",
        " 0   -  -  -  -  -  -  -  -  -\n",
        " 1   -  -  -  -  -  -  -  -  -\n",
        " 2   -  -  -  -  -  -  -  -  -\n",
        " 3   -  -  -  -  -  -  -  -  -\n",
        " 4   -  -  -  -  -  -  -  -  -\n",
        "mboard is here!\n",
        "     0  1  2  3  4  5  6  7  8  \n",
        " 0   0  0  0  0  0  0  0  0  0\n",
        " 1   0  0  0  0  0  0  0  0  0\n",
        " 2   0  0  0  0  0  0  0  0  0\n",
        " 3   0  0  0  0  0  0  0  0  0\n",
        " 4   0  0  0  0  0  0  0  0  0\n",
        "mboard has bombs!\n",
        "     0  1  2  3  4  5  6  7  8  \n",
        " 0   0  B  0  0  0  B  B  B  0\n",
        " 1   0  0  0  0  B  0  0  0  0\n",
        " 2   0  0  0  0  0  0  0  B  0\n",
        " 3   0  0  0  B  B  0  0  0  B\n",
        " 4   0  0  0  0  B  0  0  0  0\n",
        "mboard has bomb counts!\n",
        "     0  1  2  3  4  5  6  7  8  \n",
        " 0   1  B  1  1  2  B  B  B  1\n",
        " 1   1  1  1  1  B  3  4  3  2\n",
        " 2   0  0  1  3  3  2  1  B  2\n",
        " 3   0  0  1  B  B  2  1  2  B\n",
        " 4   0  0  1  3  B  2  0  1  1\n"
       ]
      }
     ],
     "prompt_number": 15
    },
    {
     "cell_type": "code",
     "collapsed": false,
     "input": [
      "#level1.py\n",
      "#displayBoard(sboard,mboard):compare vals while printing sboard?\n",
      "\n",
      "#import game\n",
      "#import gameio\n",
      "\n",
      "rows=5\n",
      "cols=9\n",
      "bombs=10\n",
      "\n",
      "sboard=createBoard(rows,cols)\n",
      "sboard=initBoard(sboard)\n",
      "\n",
      "\n",
      "mboard=createBoard(rows,cols)\n",
      "mines = placeBombs(bombs,mboard)\n",
      "mboard = placeBombCount(mboard)\n",
      "\n",
      "print('Here we go!')\n",
      "displayBoard(sboard)\n",
      "#manually? uncover a few \n",
      "#loop give me spot\n",
      "#cnt=0\n",
      "#while cnt<3:\n",
      "#    print(\"Which square do you wish to uncover?\")\n",
      "#    loc=[int(x) for x in input(\"Enter a row and column, separated by a space:\").split(\" \")]\n",
      "#    showCell(loc)\n",
      "\n",
      "\n",
      "\n",
      "#def compareBoardsAndDisplay(sboard,mboard):\n",
      "#    \"\"\"sboard gets updated when cell is uncovered, so there's no need for this comparison\"\"\"\n",
      "#    displayBoard(sboard)"
     ],
     "language": "python",
     "metadata": {},
     "outputs": [
      {
       "output_type": "stream",
       "stream": "stdout",
       "text": [
        "Here we go!\n",
        "     0  1  2  3  4  5  6  7  8  \n",
        " 0   -  -  -  -  -  -  -  -  -\n",
        " 1   -  -  -  -  -  -  -  -  -\n",
        " 2   -  -  -  -  -  -  -  -  -\n",
        " 3   -  -  -  -  -  -  -  -  -\n",
        " 4   -  -  -  -  -  -  -  -  -\n",
        "Which square do you wish to uncover?\n"
       ]
      },
      {
       "name": "stdout",
       "output_type": "stream",
       "stream": "stdout",
       "text": [
        "Enter a row and column, separated by a space:33\n"
       ]
      },
      {
       "output_type": "stream",
       "stream": "stdout",
       "text": [
        "Which square do you wish to uncover?\n"
       ]
      }
     ]
    },
    {
     "cell_type": "code",
     "collapsed": false,
     "input": [
      "#level2.py\n",
      "# 1. print initBoard\n",
      "# 2. \n",
      "#import game\n",
      "#import gameio\n",
      "\n",
      "sboard=createBoard(rows,cols)\n",
      "sboard=initBoard(sboard)\n",
      "goBoom()"
     ],
     "language": "python",
     "metadata": {},
     "outputs": []
    },
    {
     "cell_type": "code",
     "collapsed": false,
     "input": [
      "#game.py\n",
      "#level3\n",
      "#showCell(sboard,mboard,loc): \n",
      "def showCell(sboard,mboard,loc):\n",
      "    \"\"\"Returns 1 if bomb, 0 if not\"\"\"\n",
      "    r=loc[0]\n",
      "    c=loc[1]\n",
      "    #check endOfGame\n",
      "    if(sboard[r][c] != '-'):\n",
      "        return \n",
      "    \n",
      "    if(mboard[r][c] == 'B'):\n",
      "        return 1\n",
      "    \n",
      "    sboard[r][c] = mboard[r][c]\n",
      "    \n",
      "    if(sboard[r][c] == '0'):\n",
      "        showCell(sboard,mboard,)\n",
      "        \n",
      "    for r in range(0,rows):                                                               \n",
      "        for c in range(0,cols):\n",
      "            board[r][c]=calcAdj(board,(r,c))"
     ],
     "language": "python",
     "metadata": {},
     "outputs": []
    },
    {
     "cell_type": "code",
     "collapsed": false,
     "input": [
      "#level4.py\n",
      "#endOfGame(sboard,mboard): 0 if only mines left, else 1\n",
      "def endOfGame(sboard,mboard):\n",
      "    \"\"\"Returns 0 if only mines are left to uncover\"\"\"\n",
      "    if '-' not in [x for row in sboard for x in row]:\n",
      "        return 0\n",
      "    else: \n",
      "        return 1\n",
      "    \n",
      "    "
     ],
     "language": "python",
     "metadata": {},
     "outputs": [],
     "prompt_number": 24
    },
    {
     "cell_type": "code",
     "collapsed": false,
     "input": [
      "#level5.py\n",
      "## move(sboard,mboard)\n",
      "def move(sboard,mboard):\n",
      "    #check endOfGame\n",
      "    if endOfGame(sboard,mboard) is 0:\n",
      "        \n",
      "        \n",
      "        "
     ],
     "language": "python",
     "metadata": {},
     "outputs": []
    },
    {
     "cell_type": "code",
     "collapsed": false,
     "input": [
      "#level6\n",
      "#minesweeper.py\n",
      "\n",
      "def main():\n",
      "    #allocate boards\n",
      "    #playgame loop\n",
      "    playGame(sboard,mboard)\n"
     ],
     "language": "python",
     "metadata": {},
     "outputs": []
    },
    {
     "cell_type": "code",
     "collapsed": false,
     "input": [
      "#level7 \n",
      "#refine level0 & level1"
     ],
     "language": "python",
     "metadata": {},
     "outputs": []
    }
   ],
   "metadata": {}
  }
 ]
}