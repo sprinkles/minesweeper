{
 "metadata": {
  "name": "",
  "signature": "sha256:3e5840f96234ce6f2aa24c118fd2f4c2018b28e55009c1a91cf6beaa0d814a27"
 },
 "nbformat": 3,
 "nbformat_minor": 0,
 "worksheets": [
  {
   "cells": [
    {
     "cell_type": "code",
     "collapsed": true,
     "input": [
      "import sys\n",
      "import random\n",
      "import os\n"
     ],
     "language": "python",
     "metadata": {},
     "outputs": [],
     "prompt_number": 1
    },
    {
     "cell_type": "code",
     "collapsed": true,
     "input": [
      "#get this from sys.argv\n",
      "rows=5\n",
      "cols=9\n",
      "bombs=10\n"
     ],
     "language": "python",
     "metadata": {},
     "outputs": [],
     "prompt_number": 2
    },
    {
     "cell_type": "code",
     "collapsed": true,
     "input": [
      "#level0\n",
      "def createBoard(rows,cols):  \n",
      "    return [['0']*cols for i in range(rows)]           "
     ],
     "language": "python",
     "metadata": {},
     "outputs": [],
     "prompt_number": 3
    },
    {
     "cell_type": "code",
     "collapsed": true,
     "input": [
      "#level0\n",
      "def initBoard(board):                                                                   \n",
      "    rows = len(board) \n",
      "    cols = len(board[0]) \n",
      "    return [['-']*cols for i in range(rows)] \n",
      "            "
     ],
     "language": "python",
     "metadata": {},
     "outputs": [],
     "prompt_number": 4
    },
    {
     "cell_type": "code",
     "collapsed": true,
     "input": [
      "#level0\n",
      "def placeBombs(bombs,board):                                                            \n",
      "    rows = len(board)                                                                   \n",
      "    cols = len(board[0])                                                                \n",
      "    mines=[]                                                                             \n",
      "    while(bombs):                                                                       \n",
      "        randr = random.randint(0,rows-1) \n",
      "        randc = random.randint(0,cols-1)                                                  \n",
      "        if (randr,randc) not in mines:                                                                 \n",
      "            board[randr][randc]='B'\n",
      "            mines.append((randr,randc))\n",
      "            #print(mines)\n",
      "            bombs-=1\n",
      "    return mines\n"
     ],
     "language": "python",
     "metadata": {},
     "outputs": [],
     "prompt_number": 5
    },
    {
     "cell_type": "code",
     "collapsed": true,
     "input": [
      "#level1, but really level0\n",
      "def displayBoard(board):\n",
      "    \"\"\"Prints the board with indices\"\"\"\n",
      "    rows = len(board)                                                                   \n",
      "    cols = len(board[0])\n",
      "    for r in range(-1,rows):                                                               \n",
      "        for c in range(-1,cols):\n",
      "            if r==c==-1:\n",
      "                print(end=\"   \")\n",
      "            print(str(c) if r==-1 and c>-1 else '',end=\" \")\n",
      "            print(str(r) if c==-1 and r>-1 else '',end=\" \")\n",
      "            if r>-1 and c>-1:\n",
      "                print(board[r][c], end=\"\")                                                \n",
      "        print()                                                                         \n",
      "    return "
     ],
     "language": "python",
     "metadata": {},
     "outputs": [],
     "prompt_number": 7
    },
    {
     "cell_type": "code",
     "collapsed": true,
     "input": [
      "#level0\n",
      "def calcAdj(board,loc):                                                                  \n",
      "    row = loc[0]   \n",
      "    col = loc[1]\n",
      "    total=0\n",
      "    for r in range(row-1,row+2):\n",
      "        if r<0: continue\n",
      "        for c in range(col-1,col+2):\n",
      "            if c<0: continue\n",
      "            try:\n",
      "                board[r][c]\n",
      "            except IndexError:\n",
      "                continue\n",
      "            else:\n",
      "                total+=1 if board[r][c] == 'B' else 0 \n",
      "    return total   "
     ],
     "language": "python",
     "metadata": {},
     "outputs": [],
     "prompt_number": 8
    },
    {
     "cell_type": "code",
     "collapsed": true,
     "input": [
      "#level0\n",
      "def placeBombCount(board):\n",
      "    rows = len(board) \n",
      "    cols = len(board[0])\n",
      "    for r in range(0,rows):                                                               \n",
      "        for c in range(0,cols):\n",
      "            if board[r][c] != 'B':\n",
      "                board[r][c]=calcAdj(board,(r,c))\n",
      "    \n",
      "    #return board[calcAdj(mboard,loc(r,c)) for c in range(cols) for r in range(rows)]\n",
      "    return board\n",
      "    "
     ],
     "language": "python",
     "metadata": {},
     "outputs": [],
     "prompt_number": 9
    },
    {
     "cell_type": "code",
     "collapsed": false,
     "input": [
      "#may use this for showcell\n",
      "def getNeighbors(board,loc):\n",
      "    row = loc[0]\n",
      "    col = loc[1]\n",
      "    rows=len(board)\n",
      "    cols=len(board[0])\n",
      "    \n",
      "    neighbors = []\n",
      " \n",
      "    for i in range(-1,2):\n",
      "        for j in range(-1,2):\n",
      "            if i == 0 and j == 0: continue\n",
      "            elif -1<row+i<rows and -1<col+j<cols:\n",
      "                neighbors.append((row+i,col+j))\n",
      "    return neighbors\n"
     ],
     "language": "python",
     "metadata": {},
     "outputs": [],
     "prompt_number": 9
    },
    {
     "cell_type": "code",
     "collapsed": false,
     "input": [
      "#---\n",
      "# file:gameio.py\n",
      "# level:2\n",
      "#---\n",
      "def goBoom():\n",
      "    boomstring = \"\"\"\\\n",
      "    .  xxxx     xxx    xxx    x     x   xx\n",
      "    .  xx  x   xx xx  xx xx   xx   xx   xx\n",
      "    .  xxxx    xx xx  xx xx   x x x x   xx\n",
      "    .  xx  x   xx xx  xx xx   x  x  x  \n",
      "    .  xxxx     xxx    xxx    x     x   xx\n",
      "    \"\"\"\n",
      "    print(boomstring)\n",
      "    #endGame()\n",
      "goBoom()"
     ],
     "language": "python",
     "metadata": {},
     "outputs": [
      {
       "output_type": "stream",
       "stream": "stdout",
       "text": [
        "    .  xxxx     xxx    xxx    x     x   xx\n",
        "    .  xx  x   xx xx  xx xx   xx   xx   xx\n",
        "    .  xxxx    xx xx  xx xx   x x x x   xx\n",
        "    .  xx  x   xx xx  xx xx   x  x  x  \n",
        "    .  xxxx     xxx    xxx    x     x   xx\n",
        "    \n"
       ]
      }
     ],
     "prompt_number": 10
    },
    {
     "cell_type": "code",
     "collapsed": false,
     "input": [
      "def goBoomBigger():\n",
      "    bombstring = \"\"\"                       \n",
      "                         \\|/                          \n",
      "                       `--+--'                        \n",
      "                         /|\\                          \n",
      "                        ' | '                         \n",
      "                          |                           \n",
      "                          |                           \n",
      "                      ,--'#`--.                       \n",
      "                      |#######|                       \n",
      "                   _.-'#######`-._                    \n",
      "                ,-'###############`-.                 \n",
      "              ,'#####################`,               \n",
      "             /#########################\\              \n",
      "            |###########################|             \n",
      "           |#############################|            \n",
      "           |#############################|            \n",
      "           |#############################|            \n",
      "           |#############################|            \n",
      "            |###########################|             \n",
      "             \\#########################/              \n",
      "              `.#####################,'               \n",
      "                `._###############_,'                 \n",
      "                   `--..#####..--'\n",
      "    \"\"\"\n",
      "    print(bombstring)\n",
      "goBoomBigger()               "
     ],
     "language": "python",
     "metadata": {},
     "outputs": [
      {
       "output_type": "stream",
       "stream": "stdout",
       "text": [
        "                       \n",
        "                         \\|/                          \n",
        "                       `--+--'                        \n",
        "                         /|\\                          \n",
        "                        ' | '                         \n",
        "                          |                           \n",
        "                          |                           \n",
        "                      ,--'#`--.                       \n",
        "                      |#######|                       \n",
        "                   _.-'#######`-._                    \n",
        "                ,-'###############`-.                 \n",
        "              ,'#####################`,               \n",
        "             /#########################\\              \n",
        "            |###########################|             \n",
        "           |#############################|            \n",
        "           |#############################|            \n",
        "           |#############################|            \n",
        "           |#############################|            \n",
        "            |###########################|             \n",
        "             \\#########################/              \n",
        "              `.#####################,'               \n",
        "                `._###############_,'                 \n",
        "                   `--..#####..--'\n",
        "    \n"
       ]
      }
     ],
     "prompt_number": 11
    },
    {
     "cell_type": "code",
     "collapsed": false,
     "input": [
      "#game.py\n",
      "#level3\n",
      "#showCell(sboard,mboard,loc): \n",
      "def showCell(sboard,mboard,loc):\n",
      "    \"\"\"Returns 1 if bomb, 0 if not\"\"\"\n",
      "    r=loc[0]\n",
      "    c=loc[1]\n",
      "    #check endOfGame\n",
      "    if(sboard[r][c] != '-'):\n",
      "        return 0\n",
      "    \n",
      "    if(mboard[r][c] == 'B'):\n",
      "        return 1\n",
      "    \n",
      "    sboard[r][c] = mboard[r][c]\n",
      "    \n",
      "    if(sboard[r][c] == 0):\n",
      "        for rr,cc in getNeighbors(sboard,(r,c)):\n",
      "            showCell(sboard,mboard,[rr,cc])\n"
     ],
     "language": "python",
     "metadata": {},
     "outputs": [],
     "prompt_number": 12
    },
    {
     "cell_type": "code",
     "collapsed": false,
     "input": [
      "#level4.py\n",
      "#endOfGame(sboard,mboard): 0 if only mines left, else 1\n",
      "def endOfGame(sboard,mboard):\n",
      "    \"\"\"Returns 0 if only mines are left to uncover\"\"\"\n",
      "    if '-' not in [x for row in sboard for x in row]:\n",
      "        return 0\n",
      "    else: \n",
      "        return 1\n",
      "    \n",
      "    "
     ],
     "language": "python",
     "metadata": {},
     "outputs": [],
     "prompt_number": 13
    },
    {
     "cell_type": "code",
     "collapsed": false,
     "input": [
      "#level5.py\n",
      "## move(sboard,mboard)\n",
      "def move(sboard,mboard):\n",
      "    if endOfGame(sboard,mboard)==0: return 2\n",
      "    else: pass\n",
      "        \n",
      "    print(\"Which square do you wish to uncover?\")\n",
      "    loc=[int(x) for x in input(\"Enter a row and column, separated by a space:\").split(\" \")]\n",
      "    \n",
      "    if showCell(sboard,mboard,loc): \n",
      "        goBoom() \n",
      "        return 1\n",
      "    else: \n",
      "        displayBoard(sboard) \n",
      "        return 0"
     ],
     "language": "python",
     "metadata": {},
     "outputs": [],
     "prompt_number": 14
    },
    {
     "cell_type": "code",
     "collapsed": false,
     "input": [
      "#game.py #maybe not needed\n",
      "def playagain():\n",
      "    choice = input('Play again? (y/n): ')\n",
      "    return choice.lower() == 'y'"
     ],
     "language": "python",
     "metadata": {},
     "outputs": [],
     "prompt_number": 15
    },
    {
     "cell_type": "code",
     "collapsed": true,
     "input": [
      "#test\n",
      "mboard=createBoard(rows,cols)\n",
      "mboard=initBoard(mboard)\n",
      "displayBoard(mboard)\n",
      "mines = placeBombs(bombs,mboard)\n",
      "displayBoard(mboard)"
     ],
     "language": "python",
     "metadata": {},
     "outputs": [
      {
       "output_type": "stream",
       "stream": "stdout",
       "text": [
        "     0  1  2  3  4  5  6  7  8  \n",
        " 0   -  -  -  -  -  -  -  -  -\n",
        " 1   -  -  -  -  -  -  -  -  -\n",
        " 2   -  -  -  -  -  -  -  -  -\n",
        " 3   -  -  -  -  -  -  -  -  -\n",
        " 4   -  -  -  -  -  -  -  -  -\n",
        "     0  1  2  3  4  5  6  7  8  \n",
        " 0   -  -  -  B  -  -  -  -  -\n",
        " 1   -  -  B  B  -  B  -  -  -\n",
        " 2   -  -  -  -  B  -  -  -  B\n",
        " 3   -  -  -  -  B  B  -  -  -\n",
        " 4   -  -  B  B  -  -  -  -  -\n"
       ]
      }
     ],
     "prompt_number": 11
    },
    {
     "cell_type": "code",
     "collapsed": false,
     "input": [
      "#test\n",
      "loc=(5,9)\n",
      "displayBoard(mboard)\n",
      "#calcAdj(mboard,loc)\n",
      "mboard=placeBombCount(mboard)\n",
      "displayBoard(mboard)"
     ],
     "language": "python",
     "metadata": {},
     "outputs": [
      {
       "output_type": "stream",
       "stream": "stdout",
       "text": [
        "     0  1  2  3  4  5  6  7  8  \n",
        " 0   -  -  -  -  -  -  -  B  -\n",
        " 1   B  B  -  -  -  -  -  B  B\n",
        " 2   -  -  -  -  -  -  -  B  -\n",
        " 3   -  -  -  -  -  -  -  B  B\n",
        " 4   B  -  -  B  -  -  -  -  -\n",
        "     0  1  2  3  4  5  6  7  8  \n",
        " 0   2  2  1  0  0  0  2  B  3\n",
        " 1   B  B  1  0  0  0  3  B  B\n",
        " 2   2  2  1  0  0  0  3  B  5\n",
        " 3   1  1  1  1  1  0  2  B  B\n",
        " 4   B  1  1  B  1  0  1  2  2\n"
       ]
      }
     ],
     "prompt_number": 11
    },
    {
     "cell_type": "code",
     "collapsed": false,
     "input": [
      "#level0.py\n",
      "## createBoard(rows,cols): returns empty matrix?\n",
      "## initBoard(sboard): returns covered matrix\n",
      "## placeBombs(mboard,bombs): returns mines[] and places 'B's on mboard\n",
      "## checkAdj(mboard,loc): returns total adj\n",
      "## placeBombCount(mboard,loc) via checkAdj\n",
      "\n",
      "#import game\n",
      "\n",
      "rows=5\n",
      "cols=9\n",
      "bombs=10\n",
      "\n",
      "sboard=createBoard(rows,cols)\n",
      "print('sboard is here!')\n",
      "displayBoard(sboard)\n",
      "\n",
      "sboard=initBoard(sboard)\n",
      "print('sboard is covered!')\n",
      "displayBoard(sboard)\n",
      "\n",
      "mboard=createBoard(rows,cols)\n",
      "print('mboard is here!')\n",
      "displayBoard(mboard)\n",
      "    \n",
      "mines = placeBombs(bombs,mboard)\n",
      "print('mboard has bombs!')\n",
      "displayBoard(mboard)\n",
      "\n",
      "mboard = placeBombCount(mboard)\n",
      "print('mboard has bomb counts!')\n",
      "displayBoard(mboard)\n",
      "\n"
     ],
     "language": "python",
     "metadata": {},
     "outputs": [
      {
       "output_type": "stream",
       "stream": "stdout",
       "text": [
        "sboard is here!\n",
        "     0  1  2  3  4  5  6  7  8  \n",
        " 0   0  0  0  0  0  0  0  0  0\n",
        " 1   0  0  0  0  0  0  0  0  0\n",
        " 2   0  0  0  0  0  0  0  0  0\n",
        " 3   0  0  0  0  0  0  0  0  0\n",
        " 4   0  0  0  0  0  0  0  0  0\n",
        "sboard is covered!\n",
        "     0  1  2  3  4  5  6  7  8  \n",
        " 0   -  -  -  -  -  -  -  -  -\n",
        " 1   -  -  -  -  -  -  -  -  -\n",
        " 2   -  -  -  -  -  -  -  -  -\n",
        " 3   -  -  -  -  -  -  -  -  -\n",
        " 4   -  -  -  -  -  -  -  -  -\n",
        "mboard is here!\n",
        "     0  1  2  3  4  5  6  7  8  \n",
        " 0   0  0  0  0  0  0  0  0  0\n",
        " 1   0  0  0  0  0  0  0  0  0\n",
        " 2   0  0  0  0  0  0  0  0  0\n",
        " 3   0  0  0  0  0  0  0  0  0\n",
        " 4   0  0  0  0  0  0  0  0  0\n",
        "mboard has bombs!\n",
        "     0  1  2  3  4  5  6  7  8  \n",
        " 0   0  B  B  0  0  0  0  0  0\n",
        " 1   0  0  0  0  B  0  B  0  0\n",
        " 2   0  0  0  B  0  0  0  0  B\n",
        " 3   0  0  0  B  0  B  0  B  0\n",
        " 4   0  0  0  0  0  B  0  0  0\n",
        "mboard has bomb counts!\n",
        "     0  1  2  3  4  5  6  7  8  \n",
        " 0   1  B  B  2  1  2  1  1  0\n",
        " 1   1  2  3  3  B  2  B  2  1\n",
        " 2   0  0  2  B  4  3  3  3  B\n",
        " 3   0  0  2  B  4  B  3  B  2\n",
        " 4   0  0  1  1  3  B  3  1  1\n"
       ]
      }
     ],
     "prompt_number": 16
    },
    {
     "cell_type": "code",
     "collapsed": false,
     "input": [
      "#level2.py\n",
      "# 1. print initBoard\n",
      "# 2. \n",
      "#import game\n",
      "#import gameio\n",
      "\n",
      "goBoom()"
     ],
     "language": "python",
     "metadata": {},
     "outputs": [
      {
       "output_type": "stream",
       "stream": "stdout",
       "text": [
        "    .  xxxx     xxx    xxx    x     x   xx\n",
        "    .  xx  x   xx xx  xx xx   xx   xx   xx\n",
        "    .  xxxx    xx xx  xx xx   x x x x   xx\n",
        "    .  xx  x   xx xx  xx xx   x  x  x  \n",
        "    .  xxxx     xxx    xxx    x     x   xx\n",
        "    \n"
       ]
      }
     ],
     "prompt_number": 17
    },
    {
     "cell_type": "code",
     "collapsed": false,
     "input": [
      "#level1.py\n",
      "#displayBoard(sboard,mboard):compare vals while printing sboard?\n",
      "\n",
      "#import game\n",
      "#import gameio\n",
      "\n",
      "rows=9\n",
      "cols=9\n",
      "bombs=10\n",
      "\n",
      "sboard=createBoard(rows,cols)\n",
      "sboard=initBoard(sboard)\n",
      "\n",
      "\n",
      "mboard=createBoard(rows,cols)\n",
      "mines = placeBombs(bombs,mboard)\n",
      "mboard = placeBombCount(mboard)\n",
      "\n",
      "print('Here we go!')\n",
      "displayBoard(sboard)\n",
      "\n",
      "cnt=3\n",
      "while(cnt>0):\n",
      "    print(\"Which square do you wish to uncover?\")\n",
      "    loc=[int(x) for x in input(\"Enter a row and column, separated by a space:\").split(\" \")]\n",
      "    if loc[0] > rows or loc[1] > cols:\n",
      "        continue\n",
      "    if showCell(sboard,mboard,loc): \n",
      "        goBoom()\n",
      "        break\n",
      "    displayBoard(sboard)\n",
      "    \n",
      "\n",
      "#def compareBoardsAndDisplay(sboard,mboard):\n",
      "#    \"\"\"sboard gets updated when cell is uncovered, so there's no need for this comparison\"\"\"\n",
      "#    displayBoard(sboard)"
     ],
     "language": "python",
     "metadata": {},
     "outputs": [
      {
       "output_type": "stream",
       "stream": "stdout",
       "text": [
        "Here we go!\n",
        "     0  1  2  3  4  5  6  7  8  \n",
        " 0   -  -  -  -  -  -  -  -  -\n",
        " 1   -  -  -  -  -  -  -  -  -\n",
        " 2   -  -  -  -  -  -  -  -  -\n",
        " 3   -  -  -  -  -  -  -  -  -\n",
        " 4   -  -  -  -  -  -  -  -  -\n",
        "Which square do you wish to uncover?\n"
       ]
      },
      {
       "name": "stdout",
       "output_type": "stream",
       "stream": "stdout",
       "text": [
        "Enter a row and column, separated by a space:0 0\n"
       ]
      },
      {
       "output_type": "stream",
       "stream": "stdout",
       "text": [
        "     0  1  2  3  4  5  6  7  8  \n",
        " 0   0  1  -  -  -  -  -  -  -\n",
        " 1   0  1  -  -  -  -  -  -  -\n",
        " 2   1  2  -  -  -  -  -  -  -\n",
        " 3   -  -  -  -  -  -  -  -  -\n",
        " 4   -  -  -  -  -  -  -  -  -\n",
        "Which square do you wish to uncover?\n"
       ]
      },
      {
       "name": "stdout",
       "output_type": "stream",
       "stream": "stdout",
       "text": [
        "Enter a row and column, separated by a space:4 8\n"
       ]
      },
      {
       "output_type": "stream",
       "stream": "stdout",
       "text": [
        "     0  1  2  3  4  5  6  7  8  \n",
        " 0   0  1  -  -  -  -  -  -  -\n",
        " 1   0  1  -  -  -  -  -  -  -\n",
        " 2   1  2  -  -  -  -  -  -  -\n",
        " 3   -  -  -  -  -  -  -  -  -\n",
        " 4   -  -  -  -  -  -  -  -  1\n",
        "Which square do you wish to uncover?\n"
       ]
      },
      {
       "name": "stdout",
       "output_type": "stream",
       "stream": "stdout",
       "text": [
        "Enter a row and column, separated by a space:4 0\n"
       ]
      },
      {
       "output_type": "stream",
       "stream": "stdout",
       "text": [
        "     0  1  2  3  4  5  6  7  8  \n",
        " 0   0  1  -  -  -  -  -  -  -\n",
        " 1   0  1  -  -  -  -  -  -  -\n",
        " 2   1  2  -  -  -  -  -  -  -\n",
        " 3   -  -  -  -  -  -  -  -  -\n",
        " 4   1  -  -  -  -  -  -  -  1\n",
        "Which square do you wish to uncover?\n"
       ]
      }
     ]
    },
    {
     "cell_type": "code",
     "collapsed": false,
     "input": [
      "cnt=3\n",
      "while(cnt>0):\n",
      "    print(\"Which square do you wish to uncover?\")\n",
      "    loc=[int(x) for x in input(\"Enter a row and column, separated by a space:\").split(\" \")]\n",
      "\n",
      "    if showCell(sboard,mboard,loc): goBoom()\n",
      "    displayBoard(sboard)"
     ],
     "language": "python",
     "metadata": {},
     "outputs": [
      {
       "output_type": "stream",
       "stream": "stdout",
       "text": [
        "Which square do you wish to uncover?\n"
       ]
      },
      {
       "name": "stdout",
       "output_type": "stream",
       "stream": "stdout",
       "text": [
        "Enter a row and column, separated by a space:2 1\n"
       ]
      },
      {
       "output_type": "stream",
       "stream": "stdout",
       "text": [
        "     0  1  2  3  4  5  6  7  8  \n",
        " 0   -  -  -  -  -  -  -  -  -\n",
        " 1   -  -  -  -  -  -  -  -  -\n",
        " 2   -  0  -  -  -  -  -  -  -\n",
        " 3   -  -  -  -  -  -  -  -  -\n",
        " 4   -  -  -  -  -  -  -  -  -\n",
        "Which square do you wish to uncover?\n"
       ]
      },
      {
       "name": "stdout",
       "output_type": "stream",
       "stream": "stdout",
       "text": [
        "Enter a row and column, separated by a space:1 1\n"
       ]
      },
      {
       "output_type": "stream",
       "stream": "stdout",
       "text": [
        "     0  1  2  3  4  5  6  7  8  \n",
        " 0   -  -  -  -  -  -  -  -  -\n",
        " 1   -  1  -  -  -  -  -  -  -\n",
        " 2   -  0  -  -  -  -  -  -  -\n",
        " 3   -  -  -  -  -  -  -  -  -\n",
        " 4   -  -  -  -  -  -  -  -  -\n",
        "Which square do you wish to uncover?\n"
       ]
      },
      {
       "name": "stdout",
       "output_type": "stream",
       "stream": "stdout",
       "text": [
        "Enter a row and column, separated by a space:0 2\n"
       ]
      },
      {
       "output_type": "stream",
       "stream": "stdout",
       "text": [
        "     0  1  2  3  4  5  6  7  8  \n",
        " 0   -  -  1  -  -  -  -  -  -\n",
        " 1   -  1  -  -  -  -  -  -  -\n",
        " 2   -  0  -  -  -  -  -  -  -\n",
        " 3   -  -  -  -  -  -  -  -  -\n",
        " 4   -  -  -  -  -  -  -  -  -\n",
        "Which square do you wish to uncover?\n"
       ]
      },
      {
       "name": "stdout",
       "output_type": "stream",
       "stream": "stdout",
       "text": [
        "Enter a row and column, separated by a space:0 1\n"
       ]
      },
      {
       "output_type": "stream",
       "stream": "stdout",
       "text": [
        "    .  xxxx     xxx    xxx    x     x   xx\n",
        "    .  xx  x   xx xx  xx xx   xx   xx   xx\n",
        "    .  xxxx    xx xx  xx xx   x x x x   xx\n",
        "    .  xx  x   xx xx  xx xx   x  x  x  \n",
        "    .  xxxx     xxx    xxx    x     x   xx\n",
        "    \n",
        "     0  1  2  3  4  5  6  7  8  \n",
        " 0   -  -  1  -  -  -  -  -  -\n",
        " 1   -  1  -  -  -  -  -  -  -\n",
        " 2   -  0  -  -  -  -  -  -  -\n",
        " 3   -  -  -  -  -  -  -  -  -\n",
        " 4   -  -  -  -  -  -  -  -  -\n",
        "Which square do you wish to uncover?\n"
       ]
      }
     ]
    },
    {
     "cell_type": "code",
     "collapsed": false,
     "input": [
      "#level6\n",
      "#minesweeper.py\n",
      "def playGame(sboard,mboard): \n",
      "    print('Here we go!')\n",
      "    displayBoard(sboard)\n",
      "    #while(move(sboard,mboard)==0):\n",
      "    while True:\n",
      "        mv=move(sboard,mboard)\n",
      "        if mv==2:\n",
      "            print(\"You may have won.\")\n",
      "            break\n",
      "        elif mv==1:\n",
      "            print(\"You lose.\")\n",
      "            break\n",
      "        else:\n",
      "            continue\n",
      "        \n",
      "    "
     ],
     "language": "python",
     "metadata": {},
     "outputs": [],
     "prompt_number": 17
    },
    {
     "cell_type": "code",
     "collapsed": false,
     "input": [
      "#level6\n",
      "#minesweeper.py\n",
      "\n",
      "def main():\n",
      "    \n",
      "    #rows = int(sys.argv[1]) if len(sys.argv) >=2 else 9\n",
      "    #cols = int(sys.argv[2]) if len(sys.argv) >=3 else 9\n",
      "    #bombs= int(sys.argv[3]) if len(sys.argv) >=4 else 10\n",
      "    rows = 9\n",
      "    cols = 9\n",
      "    bombs = 10\n",
      "    \n",
      "    #allocate boards\n",
      "    sboard=createBoard(rows,cols)\n",
      "    sboard=initBoard(sboard)\n",
      "    \n",
      "    mboard=createBoard(rows,cols)\n",
      "    mboard=initBoard(mboard)\n",
      "    \n",
      "    mines = placeBombs(bombs,mboard)\n",
      "    #displayBoard(mboard)\n",
      "    mboard = placeBombCount(mboard)\n",
      "    #displayBoard(mboard)\n",
      "    \n",
      "    #playgame loop\n",
      "    playGame(sboard,mboard)\n",
      "\n",
      "\n",
      "main()"
     ],
     "language": "python",
     "metadata": {},
     "outputs": [
      {
       "output_type": "stream",
       "stream": "stdout",
       "text": [
        "Here we go!\n",
        "     0  1  2  3  4  5  6  7  8  \n",
        " 0   -  -  -  -  -  -  -  -  -\n",
        " 1   -  -  -  -  -  -  -  -  -\n",
        " 2   -  -  -  -  -  -  -  -  -\n",
        " 3   -  -  -  -  -  -  -  -  -\n",
        " 4   -  -  -  -  -  -  -  -  -\n",
        " 5   -  -  -  -  -  -  -  -  -\n",
        " 6   -  -  -  -  -  -  -  -  -\n",
        " 7   -  -  -  -  -  -  -  -  -\n",
        " 8   -  -  -  -  -  -  -  -  -\n",
        "Which square do you wish to uncover?\n"
       ]
      },
      {
       "name": "stdout",
       "output_type": "stream",
       "stream": "stdout",
       "text": [
        "Enter a row and column, separated by a space:2 3\n"
       ]
      },
      {
       "output_type": "stream",
       "stream": "stdout",
       "text": [
        "     0  1  2  3  4  5  6  7  8  \n",
        " 0   -  -  -  -  -  -  -  -  -\n",
        " 1   -  -  -  -  -  -  -  -  -\n",
        " 2   -  -  -  1  -  -  -  -  -\n",
        " 3   -  -  -  -  -  -  -  -  -\n",
        " 4   -  -  -  -  -  -  -  -  -\n",
        " 5   -  -  -  -  -  -  -  -  -\n",
        " 6   -  -  -  -  -  -  -  -  -\n",
        " 7   -  -  -  -  -  -  -  -  -\n",
        " 8   -  -  -  -  -  -  -  -  -\n",
        "Which square do you wish to uncover?\n"
       ]
      },
      {
       "name": "stdout",
       "output_type": "stream",
       "stream": "stdout",
       "text": [
        "Enter a row and column, separated by a space:0 8\n"
       ]
      },
      {
       "output_type": "stream",
       "stream": "stdout",
       "text": [
        "     0  1  2  3  4  5  6  7  8  \n",
        " 0   -  -  -  -  -  -  -  -  1\n",
        " 1   -  -  -  -  -  -  -  -  -\n",
        " 2   -  -  -  1  -  -  -  -  -\n",
        " 3   -  -  -  -  -  -  -  -  -\n",
        " 4   -  -  -  -  -  -  -  -  -\n",
        " 5   -  -  -  -  -  -  -  -  -\n",
        " 6   -  -  -  -  -  -  -  -  -\n",
        " 7   -  -  -  -  -  -  -  -  -\n",
        " 8   -  -  -  -  -  -  -  -  -\n",
        "Which square do you wish to uncover?\n"
       ]
      }
     ]
    }
   ],
   "metadata": {}
  }
 ]
}