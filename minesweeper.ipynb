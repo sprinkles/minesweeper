{
 "metadata": {
  "name": "",
  "signature": "sha256:9ab0f32b566aec8a4146bcecbf3d8b86fc5bb01686b9209c54204745611f460a"
 },
 "nbformat": 3,
 "nbformat_minor": 0,
 "worksheets": [
  {
   "cells": [
    {
     "cell_type": "code",
     "collapsed": true,
     "input": [
      "import sys\n",
      "import random\n",
      "import os\n"
     ],
     "language": "python",
     "metadata": {},
     "outputs": [],
     "prompt_number": 1
    },
    {
     "cell_type": "code",
     "collapsed": true,
     "input": [
      "#get this from sys.arg\n",
      "rows=5\n",
      "cols=9\n",
      "bombs=10\n"
     ],
     "language": "python",
     "metadata": {},
     "outputs": [],
     "prompt_number": 79
    },
    {
     "cell_type": "code",
     "collapsed": true,
     "input": [
      "#level0\n",
      "def createBoard(rows,cols):  \n",
      "    return [['0']*cols for i in range(rows)]           "
     ],
     "language": "python",
     "metadata": {},
     "outputs": [],
     "prompt_number": 10
    },
    {
     "cell_type": "code",
     "collapsed": true,
     "input": [
      "#level0\n",
      "def initBoard(board):                                                                   \n",
      "    rows = len(board) \n",
      "    cols = len(board[0]) \n",
      "    return [['-']*cols for i in range(rows)] \n",
      "            "
     ],
     "language": "python",
     "metadata": {},
     "outputs": [],
     "prompt_number": 11
    },
    {
     "cell_type": "code",
     "collapsed": true,
     "input": [
      "#level0\n",
      "def placeBombs(bombs,board):                                                            \n",
      "    rows = len(board)                                                                   \n",
      "    cols = len(board[0])                                                                \n",
      "    mines=[]                                                                             \n",
      "    while(bombs):                                                                       \n",
      "        randr = random.randint(0,rows-1) \n",
      "        randc = random.randint(0,cols-1)                                                  \n",
      "        if (randr,randc) not in mines:                                                                 \n",
      "            board[randr][randc]='B'\n",
      "            mines.append((randr,randc))\n",
      "            #print(mines)\n",
      "            bombs-=1\n",
      "    return mines\n"
     ],
     "language": "python",
     "metadata": {},
     "outputs": [],
     "prompt_number": 80
    },
    {
     "cell_type": "code",
     "collapsed": false,
     "input": [
      "print(mines)"
     ],
     "language": "python",
     "metadata": {},
     "outputs": [
      {
       "output_type": "stream",
       "stream": "stdout",
       "text": [
        "[(0, 4), (2, 5), (0, 6), (4, 7), (0, 5), (3, 3), (1, 3), (4, 5), (1, 0), (4, 8)]\n"
       ]
      }
     ],
     "prompt_number": 25
    },
    {
     "cell_type": "code",
     "collapsed": true,
     "input": [
      "#level1, but really level0\n",
      "def displayBoard(board):\n",
      "    \"\"\"Prints the board with indices\"\"\"\n",
      "    rows = len(board)                                                                   \n",
      "    cols = len(board[0])\n",
      "    for r in range(-1,rows):                                                               \n",
      "        for c in range(-1,cols):\n",
      "            if r==c==-1:\n",
      "                print(end=\"   \")\n",
      "            print(str(c) if r==-1 and c>-1 else '',end=\" \")\n",
      "            print(str(r) if c==-1 and r>-1 else '',end=\" \")\n",
      "            if r>-1 and c>-1:\n",
      "                print(board[r][c], end=\"\")                                                \n",
      "        print()                                                                         \n",
      "    return "
     ],
     "language": "python",
     "metadata": {},
     "outputs": [],
     "prompt_number": 81
    },
    {
     "cell_type": "code",
     "collapsed": true,
     "input": [
      "#level0\n",
      "def calcAdj(board,loc):                                                                  \n",
      "    row = loc[0]   \n",
      "    col = loc[1]\n",
      "    total=0\n",
      "    for r in range(row-1,row+2):\n",
      "        if r<0: continue\n",
      "        for c in range(col-1,col+2):\n",
      "            if c<0: continue\n",
      "            try:\n",
      "                board[r][c]\n",
      "            except IndexError:\n",
      "                continue\n",
      "            else:\n",
      "                total+=1 if board[r][c] == 'B' else 0 \n",
      "    return total   "
     ],
     "language": "python",
     "metadata": {},
     "outputs": [],
     "prompt_number": 93
    },
    {
     "cell_type": "code",
     "collapsed": true,
     "input": [
      "#level0\n",
      "def placeBombCount(board):\n",
      "    rows = len(board) \n",
      "    cols = len(board[0])\n",
      "    for r in range(0,rows):                                                               \n",
      "        for c in range(0,cols):\n",
      "            if board[r][c] != 'B':\n",
      "                board[r][c]=calcAdj(board,(r,c))\n",
      "    \n",
      "    #return board[calcAdj(mboard,loc(r,c)) for c in range(cols) for r in range(rows)]\n",
      "    return board\n",
      "    "
     ],
     "language": "python",
     "metadata": {},
     "outputs": [],
     "prompt_number": 82
    },
    {
     "cell_type": "code",
     "collapsed": true,
     "input": [
      "#test\n",
      "mboard=createBoard(rows,cols)\n",
      "mboard=initBoard(mboard)\n",
      "displayBoard(mboard)\n",
      "mines = placeBombs(bombs,mboard)\n",
      "displayBoard(mboard)"
     ],
     "language": "python",
     "metadata": {},
     "outputs": [
      {
       "output_type": "stream",
       "stream": "stdout",
       "text": [
        "     0  1  2  3  4  5  6  7  8  \n",
        " 0   -  -  -  -  -  -  -  -  -\n",
        " 1   -  -  -  -  -  -  -  -  -\n",
        " 2   -  -  -  -  -  -  -  -  -\n",
        " 3   -  -  -  -  -  -  -  -  -\n",
        " 4   -  -  -  -  -  -  -  -  -\n",
        "     0  1  2  3  4  5  6  7  8  \n",
        " 0   -  -  -  B  -  -  -  B  B\n",
        " 1   -  B  -  -  -  -  -  -  -\n",
        " 2   -  -  B  -  -  -  -  -  -\n",
        " 3   -  -  B  -  -  B  B  -  -\n",
        " 4   -  -  B  -  -  -  -  -  B\n"
       ]
      }
     ],
     "prompt_number": 91
    },
    {
     "cell_type": "code",
     "collapsed": false,
     "input": [
      "#test\n",
      "loc=(5,9)\n",
      "displayBoard(mboard)\n",
      "#calcAdj(mboard,loc)\n",
      "mboard=placeBombCount(mboard)\n",
      "displayBoard(mboard)"
     ],
     "language": "python",
     "metadata": {},
     "outputs": [
      {
       "output_type": "stream",
       "stream": "stdout",
       "text": [
        "     0  1  2  3  4  5  6  7  8  \n",
        " 0   -  -  -  B  -  -  -  B  B\n",
        " 1   -  B  -  -  -  -  -  -  -\n",
        " 2   -  -  B  -  -  -  -  -  -\n",
        " 3   -  -  B  -  -  B  B  -  -\n",
        " 4   -  -  B  -  -  -  -  -  B\n",
        "checking 0 0 0\n",
        "checking 0 1 0\n",
        "checking 1 0 0\n",
        "checking 1 1 0\n",
        "checking 0 0 0\n",
        "checking 0 1 0\n",
        "checking 0 2 0\n",
        "checking 1 0 0\n",
        "checking 1 1 0\n",
        "checking 1 2 1\n",
        "checking 0 1 0\n",
        "checking 0 2 0\n",
        "checking 0 3 0\n",
        "checking 1 1 1\n",
        "checking 1 2 2\n",
        "checking 1 3 2\n",
        "checking 0 3 0\n",
        "checking 0 4 1\n",
        "checking 0 5 1\n",
        "checking 1 3 1\n",
        "checking 1 4 1\n",
        "checking 1 5 1\n",
        "checking 0 4 0\n",
        "checking 0 5 0\n",
        "checking 0 6 0\n",
        "checking 1 4 0\n",
        "checking 1 5 0\n",
        "checking 1 6 0\n",
        "checking 0 5 0\n",
        "checking 0 6 0\n",
        "checking 0 7 0\n",
        "checking 1 5 1\n",
        "checking 1 6 1\n",
        "checking 1 7 1\n",
        "checking 0 0 0\n",
        "checking 0 1 0\n",
        "checking 1 0 0\n",
        "checking 1 1 0\n",
        "checking 2 0 1\n",
        "checking 2 1 1\n",
        "checking 0 1 0\n",
        "checking 0 2 0\n",
        "checking 0 3 0\n",
        "checking 1 1 1\n",
        "checking 1 2 2\n",
        "checking 1 3 2\n",
        "checking 2 1 2\n",
        "checking 2 2 2\n",
        "checking 2 3 3\n",
        "checking 0 2 0\n",
        "checking 0 3 0\n",
        "checking 0 4 1\n",
        "checking 1 2 1\n",
        "checking 1 3 1\n",
        "checking 1 4 1\n",
        "checking 2 2 1\n",
        "checking 2 3 2\n",
        "checking 2 4 2\n",
        "checking 0 3 0\n",
        "checking 0 4 1\n",
        "checking 0 5 1\n",
        "checking 1 3 1\n",
        "checking 1 4 1\n",
        "checking 1 5 1\n",
        "checking 2 3 1\n",
        "checking 2 4 1\n",
        "checking 2 5 1\n",
        "checking 0 4 0\n",
        "checking 0 5 0\n",
        "checking 0 6 0\n",
        "checking 1 4 0\n",
        "checking 1 5 0\n",
        "checking 1 6 0\n",
        "checking 2 4 0\n",
        "checking 2 5 0\n",
        "checking 2 6 0\n",
        "checking 0 5 0\n",
        "checking 0 6 0\n",
        "checking 0 7 0\n",
        "checking 1 5 1\n",
        "checking 1 6 1\n",
        "checking 1 7 1\n",
        "checking 2 5 1\n",
        "checking 2 6 1\n",
        "checking 2 7 1\n",
        "checking 0 6 0\n",
        "checking 0 7 0\n",
        "checking 0 8 1\n",
        "checking 1 6 2\n",
        "checking 1 7 2\n",
        "checking 1 8 2\n",
        "checking 2 6 2\n",
        "checking 2 7 2\n",
        "checking 2 8 2\n",
        "checking 0 7 0\n",
        "checking 0 8 1\n",
        "checking 0 9 2\n",
        "checking 1 7 2\n",
        "checking 1 8 2\n",
        "checking 1 9 2\n",
        "checking 2 7 2\n",
        "checking 2 8 2\n",
        "checking 2 9 2\n",
        "checking 1 0 0\n",
        "checking 1 1 0\n",
        "checking 2 0 1\n",
        "checking 2 1 1\n",
        "checking 3 0 1\n",
        "checking 3 1 1\n",
        "checking 1 0 0\n",
        "checking 1 1 0\n",
        "checking 1 2 1\n",
        "checking 2 0 1\n",
        "checking 2 1 1\n",
        "checking 2 2 1\n",
        "checking 3 0 2\n",
        "checking 3 1 2\n",
        "checking 3 2 2\n",
        "checking 1 2 0\n",
        "checking 1 3 0\n",
        "checking 1 4 0\n",
        "checking 2 2 0\n",
        "checking 2 3 1\n",
        "checking 2 4 1\n",
        "checking 3 2 1\n",
        "checking 3 3 2\n",
        "checking 3 4 2\n",
        "checking 1 3 0\n",
        "checking 1 4 0\n",
        "checking 1 5 0\n",
        "checking 2 3 0\n",
        "checking 2 4 0\n",
        "checking 2 5 0\n",
        "checking 3 3 0\n",
        "checking 3 4 0\n",
        "checking 3 5 0\n",
        "checking 1 4 0\n",
        "checking 1 5 0\n",
        "checking 1 6 0\n",
        "checking 2 4 0\n",
        "checking 2 5 0\n",
        "checking 2 6 0\n",
        "checking 3 4 0\n",
        "checking 3 5 0\n",
        "checking 3 6 1\n",
        "checking 1 5 0\n",
        "checking 1 6 0\n",
        "checking 1 7 0\n",
        "checking 2 5 0\n",
        "checking 2 6 0\n",
        "checking 2 7 0\n",
        "checking 3 5 0\n",
        "checking 3 6 1\n",
        "checking 3 7 2\n",
        "checking 1 6 0\n",
        "checking 1 7 0\n",
        "checking 1 8 0\n",
        "checking 2 6 0\n",
        "checking 2 7 0\n",
        "checking 2 8 0\n",
        "checking 3 6 0\n",
        "checking 3 7 1\n",
        "checking 3 8 1\n",
        "checking 1 7 0\n",
        "checking 1 8 0\n",
        "checking 1 9 0\n",
        "checking 2 7 0\n",
        "checking 2 8 0\n",
        "checking 2 9 0\n",
        "checking 3 7 0\n",
        "checking 3 8 0\n",
        "checking 3 9 0\n",
        "checking 2 0 0\n",
        "checking 2 1 0\n",
        "checking 3 0 0\n",
        "checking 3 1 0\n",
        "checking 4 0 0\n",
        "checking 4 1 0\n",
        "checking 2 0 0\n",
        "checking 2 1 0\n",
        "checking 2 2 0\n",
        "checking 3 0 1\n",
        "checking 3 1 1\n",
        "checking 3 2 1\n",
        "checking 4 0 2\n",
        "checking 4 1 2\n",
        "checking 4 2 2\n",
        "checking 2 2 0\n",
        "checking 2 3 1\n",
        "checking 2 4 1\n",
        "checking 3 2 1\n",
        "checking 3 3 2\n",
        "checking 3 4 2\n",
        "checking 4 2 2\n",
        "checking 4 3 3\n",
        "checking 4 4 3\n",
        "checking 2 3 0\n",
        "checking 2 4 0\n",
        "checking 2 5 0\n",
        "checking 3 3 0\n",
        "checking 3 4 0\n",
        "checking 3 5 0\n",
        "checking 4 3 1\n",
        "checking 4 4 1\n",
        "checking 4 5 1\n",
        "checking 2 6 0\n",
        "checking 2 7 0\n",
        "checking 2 8 0\n",
        "checking 3 6 0\n",
        "checking 3 7 1\n",
        "checking 3 8 1\n",
        "checking 4 6 1\n",
        "checking 4 7 1\n",
        "checking 4 8 1\n",
        "checking 2 7 0\n",
        "checking 2 8 0\n",
        "checking 2 9 0\n",
        "checking 3 7 0\n",
        "checking 3 8 0\n",
        "checking 3 9 0\n",
        "checking 4 7 0\n",
        "checking 4 8 0\n",
        "checking 4 9 1\n",
        "checking 3 0 0\n",
        "checking 3 1 0\n",
        "checking 4 0 0\n",
        "checking 4 1 0\n",
        "checking 5 0 0\n",
        "checking 5 1 0\n",
        "checking 3 0 0\n",
        "checking 3 1 0\n",
        "checking 3 2 0\n",
        "checking 4 0 1\n",
        "checking 4 1 1\n",
        "checking 4 2 1\n",
        "checking 5 0 2\n",
        "checking 5 1 2\n",
        "checking 5 2 2\n",
        "checking 3 2 0\n",
        "checking 3 3 1\n",
        "checking 3 4 1\n",
        "checking 4 2 1\n",
        "checking 4 3 2\n",
        "checking 4 4 2\n",
        "checking 5 2 2\n",
        "checking 5 3 2\n",
        "checking 5 4 2\n",
        "checking 3 3 0\n",
        "checking 3 4 0\n",
        "checking 3 5 0\n",
        "checking 4 3 1\n",
        "checking 4 4 1\n",
        "checking 4 5 1\n",
        "checking 5 3 1\n",
        "checking 5 4 1\n",
        "checking 5 5 1\n",
        "checking 3 4 0\n",
        "checking 3 5 0\n",
        "checking 3 6 1\n",
        "checking 4 4 2\n",
        "checking 4 5 2\n",
        "checking 4 6 2\n",
        "checking 5 4 2\n",
        "checking 5 5 2\n",
        "checking 5 6 2\n",
        "checking 3 5 0\n",
        "checking 3 6 1\n",
        "checking 3 7 2\n",
        "checking 4 5 2\n",
        "checking 4 6 2\n",
        "checking 4 7 2\n",
        "checking 5 5 2\n",
        "checking 5 6 2\n",
        "checking 5 7 2\n",
        "checking 3 6 0\n",
        "checking 3 7 1\n",
        "checking 3 8 1\n",
        "checking 4 6 1\n",
        "checking 4 7 1\n",
        "checking 4 8 1\n",
        "checking 5 6 2\n",
        "checking 5 7 2\n",
        "checking 5 8 2\n",
        "     0  1  2  3  4  5  6  7  8  \n",
        " 0   1  1  2  B  1  0  1  B  B\n",
        " 1   1  B  3  2  1  0  1  2  2\n",
        " 2   1  3  B  2  1  2  2  1  0\n",
        " 3   0  3  B  3  1  B  B  2  1\n",
        " 4   0  2  B  2  1  2  2  2  B\n"
       ]
      }
     ],
     "prompt_number": 92
    },
    {
     "cell_type": "code",
     "collapsed": false,
     "input": [
      "#may use this for showcell\n",
      "def getNeighbors(board,loc):\n",
      "    row = loc[0]\n",
      "    column = loc[1]\n",
      "    rows=len(board)\n",
      "    cols=len(board[0])\n",
      "    \n",
      "    neighbors = []\n",
      " \n",
      "    for i in range(-1,2):\n",
      "        for j in range(-1,2):\n",
      "            if i == 0 and j == 0: continue\n",
      "            elif -1<row+i<rows and -1<colno+j<cols:\n",
      "                neighbors.append((row+i,col+j))\n",
      "    return neighbors\n"
     ],
     "language": "python",
     "metadata": {},
     "outputs": [],
     "prompt_number": 15
    },
    {
     "cell_type": "code",
     "collapsed": false,
     "input": [
      "#game.py #maybe not needed\n",
      "def playagain():\n",
      "    choice = input('Play again? (y/n): ')\n",
      "    return choice.lower() == 'y'"
     ],
     "language": "python",
     "metadata": {},
     "outputs": [],
     "prompt_number": 11
    },
    {
     "cell_type": "code",
     "collapsed": false,
     "input": [
      "#test\n",
      "sboard=createBoard(rows,cols)\n",
      "sboard=initBoard(sboard)\n",
      "displayBoard(sboard)"
     ],
     "language": "python",
     "metadata": {},
     "outputs": [
      {
       "output_type": "stream",
       "stream": "stdout",
       "text": [
        "     0  1  2  3  4  5  6  7  8  \n",
        " 0   -  -  -  -  -  -  -  -  -\n",
        " 1   -  -  -  -  -  -  -  -  -\n",
        " 2   -  -  -  -  -  -  -  -  -\n",
        " 3   -  -  -  -  -  -  -  -  -\n",
        " 4   -  -  -  -  -  -  -  -  -\n"
       ]
      }
     ],
     "prompt_number": 8
    },
    {
     "cell_type": "code",
     "collapsed": true,
     "input": [
      "#game.py\n",
      "def playGame():\n",
      "    rows=5\n",
      "    cols=9\n",
      "    bombs=10\n",
      "    sboard=createBoard(rows,cols)\n",
      "    sboard=initBoard(sboard)\n",
      "    mboard=createBoard(rows,cols)\n",
      "    mboard=initBoard(mboard)\n",
      "    displayBoard(mboard)\n",
      "    mines = placeBombs(bombs,mboard)\n",
      "    mboard = placeBombCount(mboard)\n",
      "    displayBoard(mboard)\n",
      "    displayBoard(sboard)\n",
      "    whatsleft=[]\n",
      "    \n",
      "    while True:\n",
      "        print(\"Which square do you wish to uncover?\")\n",
      "        loc=[int(x) for x in input(\"Enter a row <space> column:\").split(\" \")]\n",
      "        try:\n",
      "            #loc=[int(x) for x in input(\"Enter a row <space> column:\").split(\" \")]\n",
      "            if rows>loc[0] and cols>loc[1]:\n",
      "                print('exists')\n",
      "                showCell(sboard,mboard,loc)\n",
      "        except:\n",
      "            print('hitting e')\n",
      "            pass\n",
      "        continue\n",
      "        if '-' in [x for row in sboard for x in row]:\n",
      "            continue\n",
      "        else:\n",
      "            print('no more!')\n",
      "            print('you may have won')\n",
      "            if playagain(): playgame()\n",
      "            else: exit()\n",
      "            \n",
      "         #if set(whatsleft)==set(mines):\n",
      "          #  print 'You Win'\n",
      "           # if playagain(): playgame()\n",
      "            #else: exit()\n",
      "        #else:\n",
      "         #   print('else')\n",
      "          #  print(\"You're doing it wrong!\")\n",
      "           # break\n",
      "   \n",
      "    \n",
      "playGame()"
     ],
     "language": "python",
     "metadata": {},
     "outputs": []
    },
    {
     "cell_type": "code",
     "collapsed": false,
     "input": [
      "#---\n",
      "# file:gameio.py\n",
      "# level:2\n",
      "#---\n",
      "def goBoom():\n",
      "    boomstring = \"\"\"\\\n",
      "    .  xxxx     xxx    xxx    x     x   xx\n",
      "    .  xx  x   xx xx  xx xx   xx   xx   xx\n",
      "    .  xxxx    xx xx  xx xx   x x x x   xx\n",
      "    .  xx  x   xx xx  xx xx   x  x  x  \n",
      "    .  xxxx     xxx    xxx    x     x   xx\n",
      "    \"\"\"\n",
      "    print(boomstring)\n",
      "    #endGame()\n",
      "goBoom()"
     ],
     "language": "python",
     "metadata": {},
     "outputs": [
      {
       "output_type": "stream",
       "stream": "stdout",
       "text": [
        "    .  xxxx     xxx    xxx    x     x   xx\n",
        "    .  xx  x   xx xx  xx xx   xx   xx   xx\n",
        "    .  xxxx    xx xx  xx xx   x x x x   xx\n",
        "    .  xx  x   xx xx  xx xx   x  x  x  \n",
        "    .  xxxx     xxx    xxx    x     x   xx\n",
        "    \n"
       ]
      }
     ],
     "prompt_number": 16
    },
    {
     "cell_type": "code",
     "collapsed": false,
     "input": [
      "def goBoomBigger():\n",
      "    bombstring = \"\"\"                       \n",
      "                         \\|/                          \n",
      "                       `--+--'                        \n",
      "                         /|\\                          \n",
      "                        ' | '                         \n",
      "                          |                           \n",
      "                          |                           \n",
      "                      ,--'#`--.                       \n",
      "                      |#######|                       \n",
      "                   _.-'#######`-._                    \n",
      "                ,-'###############`-.                 \n",
      "              ,'#####################`,               \n",
      "             /#########################\\              \n",
      "            |###########################|             \n",
      "           |#############################|            \n",
      "           |#############################|            \n",
      "           |#############################|            \n",
      "           |#############################|            \n",
      "            |###########################|             \n",
      "             \\#########################/              \n",
      "              `.#####################,'               \n",
      "                `._###############_,'                 \n",
      "                   `--..#####..--'\n",
      "    \"\"\"\n",
      "    print(bombstring)\n",
      "goBoomBigger()               "
     ],
     "language": "python",
     "metadata": {},
     "outputs": [
      {
       "output_type": "stream",
       "stream": "stdout",
       "text": [
        "                       \n",
        "                         \\|/                          \n",
        "                       `--+--'                        \n",
        "                         /|\\                          \n",
        "                        ' | '                         \n",
        "                          |                           \n",
        "                          |                           \n",
        "                      ,--'#`--.                       \n",
        "                      |#######|                       \n",
        "                   _.-'#######`-._                    \n",
        "                ,-'###############`-.                 \n",
        "              ,'#####################`,               \n",
        "             /#########################\\              \n",
        "            |###########################|             \n",
        "           |#############################|            \n",
        "           |#############################|            \n",
        "           |#############################|            \n",
        "           |#############################|            \n",
        "            |###########################|             \n",
        "             \\#########################/              \n",
        "              `.#####################,'               \n",
        "                `._###############_,'                 \n",
        "                   `--..#####..--'\n",
        "    \n"
       ]
      }
     ],
     "prompt_number": 17
    },
    {
     "cell_type": "code",
     "collapsed": false,
     "input": [
      "#level0.py\n",
      "## createBoard(rows,cols): returns empty matrix?\n",
      "## initBoard(sboard): returns covered matrix\n",
      "## placeBombs(mboard,bombs): returns mines[] and places 'B's on mboard\n",
      "## checkAdj(mboard,loc): returns total adj\n",
      "## placeBombCount(mboard,loc) via checkAdj\n",
      "\n",
      "#import game\n",
      "\n",
      "rows=5\n",
      "cols=9\n",
      "bombs=10\n",
      "\n",
      "sboard=createBoard(rows,cols)\n",
      "print('sboard is here!')\n",
      "displayBoard(sboard)\n",
      "\n",
      "sboard=initBoard(sboard)\n",
      "print('sboard is covered!')\n",
      "displayBoard(sboard)\n",
      "\n",
      "mboard=createBoard(rows,cols)\n",
      "print('mboard is here!')\n",
      "displayBoard(mboard)\n",
      "    \n",
      "mines = placeBombs(bombs,mboard)\n",
      "print('mboard has bombs!')\n",
      "displayBoard(mboard)\n",
      "\n",
      "mboard = placeBombCount(mboard)\n",
      "print('mboard has bomb counts!')\n",
      "displayBoard(mboard)\n",
      "\n"
     ],
     "language": "python",
     "metadata": {},
     "outputs": [
      {
       "output_type": "stream",
       "stream": "stdout",
       "text": [
        "sboard is here!\n",
        "     0  1  2  3  4  5  6  7  8  \n",
        " 0   0  0  0  0  0  0  0  0  0\n",
        " 1   0  0  0  0  0  0  0  0  0\n",
        " 2   0  0  0  0  0  0  0  0  0\n",
        " 3   0  0  0  0  0  0  0  0  0\n",
        " 4   0  0  0  0  0  0  0  0  0\n",
        "sboard is covered!\n",
        "     0  1  2  3  4  5  6  7  8  \n",
        " 0   -  -  -  -  -  -  -  -  -\n",
        " 1   -  -  -  -  -  -  -  -  -\n",
        " 2   -  -  -  -  -  -  -  -  -\n",
        " 3   -  -  -  -  -  -  -  -  -\n",
        " 4   -  -  -  -  -  -  -  -  -\n",
        "mboard is here!\n",
        "     0  1  2  3  4  5  6  7  8  \n",
        " 0   0  0  0  0  0  0  0  0  0\n",
        " 1   0  0  0  0  0  0  0  0  0\n",
        " 2   0  0  0  0  0  0  0  0  0\n",
        " 3   0  0  0  0  0  0  0  0  0\n",
        " 4   0  0  0  0  0  0  0  0  0\n",
        "mboard has bombs!\n",
        "     0  1  2  3  4  5  6  7  8  \n",
        " 0   0  0  0  0  B  B  B  0  0\n",
        " 1   B  0  0  B  0  0  0  0  0\n",
        " 2   0  0  0  0  0  B  0  0  0\n",
        " 3   0  0  0  B  0  0  0  0  0\n",
        " 4   0  0  0  0  0  B  0  B  B\n",
        "mboard has bomb counts!\n",
        "     0  1  2  3  4  5  6  7  8  \n",
        " 0   2  1  1  2  3  2  2  2  2\n",
        " 1   0  0  1  0  1  1  1  0  0\n",
        " 2   0  0  1  1  2  0  0  0  0\n",
        " 3   1  0  1  0  1  1  2  2  2\n",
        " 4   1  0  0  0  1  0  1  1  0\n"
       ]
      }
     ],
     "prompt_number": 23
    },
    {
     "cell_type": "code",
     "collapsed": false,
     "input": [
      "#level1.py\n",
      "#displayBoard(sboard,mboard):compare vals while printing sboard?\n",
      "\n",
      "#import game\n",
      "#import gameio\n",
      "\n",
      "rows=5\n",
      "cols=9\n",
      "bombs=10\n",
      "\n",
      "sboard=createBoard(rows,cols)\n",
      "sboard=initBoard(sboard)\n",
      "\n",
      "\n",
      "mboard=createBoard(rows,cols)\n",
      "mines = placeBombs(bombs,mboard)\n",
      "mboard = placeBombCount(mboard)\n",
      "\n",
      "print('Here we go!')\n",
      "displayBoard(sboard)\n",
      "#manually? uncover a few \n",
      "#loop give me spot\n",
      "#cnt=0\n",
      "#while cnt<3:\n",
      "#    print(\"Which square do you wish to uncover?\")\n",
      "#    loc=[int(x) for x in input(\"Enter a row and column, separated by a space:\").split(\" \")]\n",
      "#    showCell(loc)\n",
      "\n",
      "\n",
      "\n",
      "#def compareBoardsAndDisplay(sboard,mboard):\n",
      "#    \"\"\"sboard gets updated when cell is uncovered, so there's no need for this comparison\"\"\"\n",
      "#    displayBoard(sboard)"
     ],
     "language": "python",
     "metadata": {},
     "outputs": [
      {
       "output_type": "stream",
       "stream": "stdout",
       "text": [
        "Here we go!\n",
        "     0  1  2  3  4  5  6  7  8  \n",
        " 0   -  -  -  -  -  -  -  -  -\n",
        " 1   -  -  -  -  -  -  -  -  -\n",
        " 2   -  -  -  -  -  -  -  -  -\n",
        " 3   -  -  -  -  -  -  -  -  -\n",
        " 4   -  -  -  -  -  -  -  -  -\n",
        "Which square do you wish to uncover?\n"
       ]
      },
      {
       "name": "stdout",
       "output_type": "stream",
       "stream": "stdout",
       "text": [
        "Enter a row and column, separated by a space:33\n"
       ]
      },
      {
       "output_type": "stream",
       "stream": "stdout",
       "text": [
        "Which square do you wish to uncover?\n"
       ]
      }
     ]
    },
    {
     "cell_type": "code",
     "collapsed": false,
     "input": [
      "#level2.py\n",
      "# 1. print initBoard\n",
      "# 2. \n",
      "#import game\n",
      "#import gameio\n",
      "\n",
      "sboard=createBoard(rows,cols)\n",
      "sboard=initBoard(sboard)\n",
      "goBoom()"
     ],
     "language": "python",
     "metadata": {},
     "outputs": []
    },
    {
     "cell_type": "code",
     "collapsed": false,
     "input": [
      "#game.py\n",
      "#level3\n",
      "#showCell(sboard,mboard,loc): \n",
      "def showCell(sboard,mboard,loc):\n",
      "    \"\"\"Returns 1 if bomb, 0 if not\"\"\"\n",
      "    r=loc[0]\n",
      "    c=loc[1]\n",
      "    #check endOfGame\n",
      "    if(sboard[r][c] != '-'):\n",
      "        return \n",
      "    \n",
      "    if(mboard[r][c] == 'B'):\n",
      "        return 1\n",
      "    \n",
      "    sboard[r][c] = mboard[r][c]\n",
      "    \n",
      "    if(sboard[r][c] == '0'):\n",
      "        showCell(sboard,mboard,)\n",
      "        \n",
      "    for r in range(0,rows):                                                               \n",
      "        for c in range(0,cols):\n",
      "            board[r][c]=calcAdj(board,(r,c))"
     ],
     "language": "python",
     "metadata": {},
     "outputs": []
    },
    {
     "cell_type": "code",
     "collapsed": false,
     "input": [
      "#level4.py\n",
      "#endOfGame(sboard,mboard): 0 if only mines left, else 1\n",
      "def endOfGame(sboard,mboard):\n",
      "    \"\"\"Returns 0 if only mines are left to uncover\"\"\"\n",
      "    if '-' not in [x for row in sboard for x in row]:\n",
      "        return 0\n",
      "    else: \n",
      "        return 1\n",
      "    \n",
      "    "
     ],
     "language": "python",
     "metadata": {},
     "outputs": [],
     "prompt_number": 24
    },
    {
     "cell_type": "code",
     "collapsed": false,
     "input": [
      "#level5.py\n",
      "## move(sboard,mboard)\n",
      "def move(sboard,mboard):\n",
      "    #check endOfGame\n",
      "    if endOfGame(sboard,mboard) is 0:\n",
      "        \n",
      "        \n",
      "        "
     ],
     "language": "python",
     "metadata": {},
     "outputs": []
    },
    {
     "cell_type": "code",
     "collapsed": false,
     "input": [
      "#level6\n",
      "#minesweeper.py\n",
      "\n",
      "def main():\n",
      "    #allocate boards\n",
      "    #playgame loop\n",
      "    playGame(sboard,mboard)\n"
     ],
     "language": "python",
     "metadata": {},
     "outputs": []
    },
    {
     "cell_type": "code",
     "collapsed": false,
     "input": [
      "#level7 \n",
      "#refine level0 & level1"
     ],
     "language": "python",
     "metadata": {},
     "outputs": []
    },
    {
     "cell_type": "code",
     "collapsed": false,
     "input": [
      "import sys, math, time, random\n",
      "\n",
      "def distance(x, y):\n",
      "    # ((y - y_center) * 2) -> correct ratio for a true circle\n",
      "    return math.ceil(math.sqrt(((x - 40) ** 2) + (((y - 12) * 2) ** 2)))\n",
      "\n",
      "def star(radiuses):\n",
      "    for r in radiuses:\n",
      "       \n",
      "        # width\n",
      "        for y in range(24):\n",
      "            # height\n",
      "            for x in range(80):\n",
      "                d = distance(x, y)\n",
      "\n",
      "                #~ border\n",
      "                if (d == r):\n",
      "                    sys.stdout.write('*')\n",
      "                #~ inside the star\n",
      "                elif (d < r):\n",
      "                    if (r > 35):\n",
      "                        sys.stdout.write(' ')\n",
      "                    elif (r > 25) and ((d % 2) != 0):\n",
      "                        sys.stdout.write('-')\n",
      "                    elif (r > 15) and ((d % 2) == 0):\n",
      "                        sys.stdout.write(' ')\n",
      "                    else :\n",
      "                        sys.stdout.write(random.choice('****#@'))\n",
      "                #~ space outside the star\n",
      "                else:\n",
      "                    sys.stdout.write(' ')\n",
      "            print\n",
      "        time.sleep(0.1)\n",
      "\n",
      "star(list(range(0, 12, +3)) + list(range(10, 0, -3)) + list(range(0, 50, 3)))"
     ],
     "language": "python",
     "metadata": {},
     "outputs": [
      {
       "output_type": "stream",
       "stream": "stdout",
       "text": [
        "                                                                                                                                                                                                                                                                                                                                                                                                                                                                                                                                                                                                                                                                                                                                                                                                                                                                                                                                                                                                                                        *                                                                                                                                                                                                                                                                                                                                                                                                                                                                                                                                                                                                                                                                                                                                                                                                                                                                                                                                                        "
       ]
      },
      {
       "output_type": "stream",
       "stream": "stdout",
       "text": [
        "                                                                                                                                                                                                                                                                                                                                                                                                                                                                                                                                                                                                                                                                                                                                                                                                                                                                                                                                                     *****                                                                          *##****                                                                          *****                                                                                                                                                                                                                                                                                                                                                                                                                                                                                                                                                                                                                                                                                                                                                                                                                                                                      "
       ]
      },
      {
       "output_type": "stream",
       "stream": "stdout",
       "text": [
        "                                                                                                                                                                                                                                                                                                                                                                                                                                                                                                                                                                                                                                                                                                                                                                                       *                                                                           *#**#@@@*                                                                      ***@***#*@*                                                                    *****#**#****                                                                    *@###****#*                                                                      **###@#**                                                                           *                                                                                                                                                                                                                                                                                                                                                                                                                                                                                                                                                                                                                                                                                                        "
       ]
      },
      {
       "output_type": "stream",
       "stream": "stdout",
       "text": [
        "                                                                                                                                                                                                                                                                                                                                                                                                                                                                                                                                                                                                                                                                                                   *********                                                                     *#@***#**@***                                                                 *****#*@@**#*****                                                               ***#**********@**                                                              ****#@*##*##***##@*                                                              ***@*#@#**#*@**#*                                                               ***@*##*******@**                                                                 *******@*****                                                                     *********                                                                                                                                                                                                                                                                                                                                                                                                                                                                                                                                                                                                                    "
       ]
      },
      {
       "output_type": "stream",
       "stream": "stdout",
       "text": [
        "                                                                                                                                                                                                                                                                                                                                                                                                                                                                                                                                                                                                                       *                                                                         *****#@*@#***                                                                 ***@***@@*#******                                                              ***********#**#*#**                                                             *****@**#**@@@*****                                                            ****#***#**#*#*******                                                            ****@*****#***#*#**                                                             ******@**@*#*#*****                                                              **#*****###***@**                                                                 ****@@*@*****                                                                         *                                                                                                                                                                                                                                                                                                                                                                                                                                                                                                                                        "
       ]
      },
      {
       "output_type": "stream",
       "stream": "stdout",
       "text": [
        "                                                                                                                                                                                                                                                                                                                                                                                                                                                                                                                                                                                                                                                                                                                                                                                    *******                                                                       *@*#*#*****                                                                    ***@*******#*                                                                  *@****#*#*@*#@*                                                                  *#@**********                                                                    **##***@@#*                                                                       *******                                                                                                                                                                                                                                                                                                                                                                                                                                                                                                                                                                                                                                                                                                     "
       ]
      },
      {
       "output_type": "stream",
       "stream": "stdout",
       "text": [
        "                                                                                                                                                                                                                                                                                                                                                                                                                                                                                                                                                                                                                                                                                                                                                                                                                                                                       *                                                                            *#*****                                                                        *****@@@*                                                                        **@*@**                                                                            *                                                                                                                                                                                                                                                                                                                                                                                                                                                                                                                                                                                                                                                                                                                                                                                        "
       ]
      },
      {
       "output_type": "stream",
       "stream": "stdout",
       "text": [
        "                                                                                                                                                                                                                                                                                                                                                                                                                                                                                                                                                                                                                                                                                                                                                                                                                                                                                                                                                                                                                                      ***                                                                                                                                                                                                                                                                                                                                                                                                                                                                                                                                                                                                                                                                                                                                                                                                                                                                                                                                                       "
       ]
      },
      {
       "output_type": "stream",
       "stream": "stdout",
       "text": [
        "                                                                                                                                                                                                                                                                                                                                                                                                                                                                                                                                                                                                                                                                                                                                                                                                                                                                                                                                                                                                                                       *                                                                                                                                                                                                                                                                                                                                                                                                                                                                                                                                                                                                                                                                                                                                                                                                                                                                                                                                                        "
       ]
      },
      {
       "output_type": "stream",
       "stream": "stdout",
       "text": [
        "                                                                                                                                                                                                                                                                                                                                                                                                                                                                                                                                                                                                                                                                                                                                                                                                                                                                                                                                                     **#**                                                                          *@***@*                                                                          *****                                                                                                                                                                                                                                                                                                                                                                                                                                                                                                                                                                                                                                                                                                                                                                                                                                                                      "
       ]
      },
      {
       "output_type": "stream",
       "stream": "stdout",
       "text": [
        "                                                                                                                                                                                                                                                                                                                                                                                                                                                                                                                                                                                                                                                                                                                                                                                       *                                                                           ****#*@#*                                                                      **#*#*@*#**                                                                    **#******@***                                                                    *@*@***@##*                                                                      **@**#***                                                                           *                                                                                                                                                                                                                                                                                                                                                                                                                                                                                                                                                                                                                                                                                                        "
       ]
      },
      {
       "output_type": "stream",
       "stream": "stdout",
       "text": [
        "                                                                                                                                                                                                                                                                                                                                                                                                                                                                                                                                                                                                                                                                                                   *********                                                                     *@###**@**@**                                                                 *****@*@*@*******                                                               **#**************                                                              ***#*****#**#***#**                                                              **#**#**#*@@@#***                                                               **@##************                                                                 ****@********                                                                     *********                                                                                                                                                                                                                                                                                                                                                                                                                                                                                                                                                                                                                    "
       ]
      },
      {
       "output_type": "stream",
       "stream": "stdout",
       "text": [
        "                                                                                                                                                                                                                                                                                                                                                                                                                                                                                                                                       *                                                                         **#@****#****                                                                 ****#@*@*#*******                                                             ***@#@**@***#@@******                                                          **@*******@**@@********                                                         ************@@*********                                                        ******##@*****@#**#@#**#*                                                        ************@#*****@***                                                         *@**#@*@*@*@*@*@#****#*                                                          ********#*******@##**                                                             *@**#***#********                                                                 **@**#***#@**                                                                         *                                                                                                                                                                                                                                                                                                                                                                                                                                                        "
       ]
      },
      {
       "output_type": "stream",
       "stream": "stdout",
       "text": [
        "                                                                                                                                                                                                                                                                                                                                                                                                                                                  *****#*****                                                                 ***#****#***#*@@***                                                           **@#*******#******#****                                                        *#*@*@****#**@##**@@*@***                                                      *@**@#****####@****##****#*                                                    *@**@##*****@*******@**#*@*@*                                                   *@**@@*******@@*#*@@@**#*@***                                                  **#**@*@#***@****#***#*******@*                                                  *#***#*********##*****@@@****                                                   ******@#***#************#**@*                                                    ****#*#@**#*@@@******@*#***                                                      ****#**@#****@*****##*@**                                                        **#**********@@*@******                                                           ***#*#**@**@*@##***                                                                 ***********                                                                                                                                                                                                                                                                                                                                                                   "
       ]
      },
      {
       "output_type": "stream",
       "stream": "stdout",
       "text": [
        "                                                                                                                                                                                                                                                                                       *                                                                       ***##@** #*#@****                                                            ****  @@#** #*@*@  ##**                                                       *@* *@  #**@# ****#  ## ***                                                    ** #* @*  *@*# *@*#  @* *@ **                                                 **# * @* @  *#*# **@@  @ @* * @@*                                               ** * * #  *  *** @**  *  * * * **                                              *@ * * # @* * @#@ *** @ ** # * @ **                                             ** @ # # * * # #* *@ # * * * * @ **                                            *# # * @ * @ * # # * * * # * @ * * #*                                            ** # @ * * * * ** ** * * # @ # * **                                             ** # * * @* * #** *** * *# @ @ # **                                              *# * * *  *  *** **#  *  * # * **                                               **@ * ** *  *@@# #*##  * ** @ *@*                                                 *@ ** ##  *#** *#*#  @* @* **                                                    *** **  #**** **#*#  ** ***                                                       **#*  #**#* *****  ****                                                            ***@**#* ***#@***                                                                       *                                                                                                                                                                                                        "
       ]
      },
      {
       "output_type": "stream",
       "stream": "stdout",
       "text": [
        "                                                                                                                                                                                                 ****** ******                                                               **  ***@** @###**  **                                                        *  *@   *#*** *****   **  *                                                   *  #  **  ***** @***@  **  #  *                                               *  * #* **  #**** *****  ** @* *  *                                            * ** * ** **  **## *#**  ** ** * ** *                                          * * ** * #@ *  **** ****  * ** # #* * *                                        * #* * * @ *  *  *** *##  *  * * * @ @@ *                                       * @ * @ @ # ** # **# ### * #@ @ @ @ * * *                                       * * * @ * * @ @ * ** *# * @ * * * @ * * *                                      * * * * * * * * @ * * * # * * @ * * * * # *                                      * @ * @ * * * # @ ** ** * # * * * * * * *                                       * @ * * # * ** * **@ #@# * #* * * # * @ *                                       * #* @ * * #  *  @@* ***  *  # # * * @* *                                        * * @@ * *@ #  **** ****  * @# * ** * *                                          * #* * ** **  **@# **#@  ** #@ # ** *                                            *  # @* **  ***** ***@*  ** ** *  *                                               *  *  **  ****@ ***#@  @*  *  *                                                   *  @*   #*##* ****@   **  *                                                        **  #*#@@* *@*#**  **                                                               ****** ******                                                                                                                  "
       ]
      },
      {
       "output_type": "stream",
       "stream": "stdout",
       "text": [
        "                                       *                                                                      ***#**### *#*#*****                                                         ****   @@**** **##**   @@**                                                   ***  @@  ***#** **#*##  *#  *@*                                               **  @  **   @@*## ***#@   **  *  **                                           *** *  *  **  *@*#* #***#  **  @  * @**                                        *@ @  # @@ #@  ***** *****  @* ** *  @ @*                                      ** * ** * @* @*  #@** @***  ** #* * *@ @ #*                                    *@ # * ** * *# #  @**# ***#  * *# * @* @ * **                                  *# * #* * * * #  *  *** ***  @  * @ @ # *# * @*                                 *# # # * * * @ ** # *** **# * @* * # * * * @ @*                                 ** * * @ @ * @ * @ * *# *# @ * @ * @ * * # * **                                ** * # @ * * * # # * @ * * * * * * * @ @ * # * **                                *# # @ * * @ * * * # *@ @* @ # * * * * * @ @ **                                 *@ * @ @ # * # ** * *#* #*# * ** # * * @ * * **                                 ** * @* * * * @  *  *@* @@*  *  @ * * * ** @ **                                  *# @ * ** * @* #  *@** @*#*  @ *# @ ** * * #*                                    ** * ** @ *# *@  **** *@**  #* ** @ @* * **                                      *# *  * *@ @*  @*#*@ *****  @@ ** *  * **                                        **# #  *  **  *@#** #**#*  #*  *  * ##*                                           **  *  **   ***#* ***#*   **  @  @*                                               *@@  @@  *@#*** *#*@**  **  @**                                                   ****   **#*#* #***@*   *#**                                                         ******#*@ @********                               "
       ]
      },
      {
       "output_type": "stream",
       "stream": "stdout",
       "text": [
        "                           **   ------- -------   **                                                    **  --   ------ ------   --  **                                              ** --  --   ------ ------   --  -- **                                         ** -- --  --  ------ ------  --  -- -- **                                      * -- -  -  --   ----- -----   --  -  - -- *                                   ** - -- -  -  --  ----- -----  --  -  - -- - **                                *  - - -  - -- --  ----- -----  -- -- -  - - -  *                              *  - - - -- - -- --  ---- ----  -- -- - -- - - -  *                             * - - - - -- - -- -  ---- ----  - -- - -- - - - - *                            * - - - -- - - - -  -  --- ---  -  - - - - -- - - - *                           * - - - - - - - - -- - --- --- - -- - - - - - - - - *                           * - - - - - - - - - - - -- -- - - - - - - - - - - - *                          * - - - - - - - - - - - - - - - - - - - - - - - - - - *                          * - - - - - - - - - - - -- -- - - - - - - - - - - - *                           * - - - - - - - - -- - --- --- - -- - - - - - - - - *                           * - - - -- - - - -  -  --- ---  -  - - - - -- - - - *                            * - - - - -- - -- -  ---- ----  - -- - -- - - - - *                             *  - - - -- - -- --  ---- ----  -- -- - -- - - -  *                              *  - - -  - -- --  ----- -----  -- -- -  - - -  *                                ** - -- -  -  --  ----- -----  --  -  - -- - **                                   * -- -  -  --   ----- -----   --  -  - -- *                                      ** -- --  --  ------ ------  --  -- -- **                                         ** --  --   ------ ------   --  -- **                                              **  --   ------ ------   --  **                         "
       ]
      },
      {
       "output_type": "stream",
       "stream": "stdout",
       "text": [
        "                     **--  --   ------- -------   --  --**                                         **-  --  --   ------ ------   --  --  -**                                     *-- -- --  --   ------ ------   --  -- -- --*                                 **- -- -- --  --  ------ ------  --  -- -- -- -**                              *-- - -- -  -  --   ----- -----   --  -  - -- - --*                            *- -- - -- -  -  --  ----- -----  --  -  - -- - -- -*                          *- -  - - -  - -- --  ----- -----  -- -- -  - - -  - -*                        *- -  - - - -- - -- --  ---- ----  -- -- - -- - - -  - -*                       *- - - - - - -- - -- -  ---- ----  - -- - -- - - - - - -*                      *- - - - - -- - - - -  -  --- ---  -  - - - - -- - - - - -*                     *- - - - - - - - - - -- - --- --- - -- - - - - - - - - - -*                     *- - - - - - - - - - - - - -- -- - - - - - - - - - - - - -*                    *- - - - - - - - - - - - - - - - - - - - - - - - - - - - - -*                    *- - - - - - - - - - - - - -- -- - - - - - - - - - - - - -*                     *- - - - - - - - - - -- - --- --- - -- - - - - - - - - - -*                     *- - - - - -- - - - -  -  --- ---  -  - - - - -- - - - - -*                      *- - - - - - -- - -- -  ---- ----  - -- - -- - - - - - -*                       *- -  - - - -- - -- --  ---- ----  -- -- - -- - - -  - -*                        *- -  - - -  - -- --  ----- -----  -- -- -  - - -  - -*                          *- -- - -- -  -  --  ----- -----  --  -  - -- - -- -*                            *-- - -- -  -  --   ----- -----   --  -  - -- - --*                              **- -- -- --  --  ------ ------  --  -- -- -- -**                                 *-- -- --  --   ------ ------   --  -- -- --*                                     **-  --  --   ------ ------   --  --  -**                    "
       ]
      },
      {
       "output_type": "stream",
       "stream": "stdout",
       "text": [
        "                 *  -  --  --   ------- -------   --  --  -  *                                 *  -  -  --  --   ------ ------   --  --  -  -  *                             ** - -- -- --  --   ------ ------   --  -- -- -- - **                          * -  - -- -- --  --  ------ ------  --  -- -- -- -  - *                        * - -- - -- -  -  --   ----- -----   --  -  - -- - -- - *                      * - - -- - -- -  -  --  ----- -----  --  -  - -- - -- - - *                    * - - -  - - -  - -- --  ----- -----  -- -- -  - - -  - - - *                  * - - -  - - - -- - -- --  ---- ----  -- -- - -- - - -  - - - *                ** - - - - - - - -- - -- -  ---- ----  - -- - -- - - - - - - - **               * - - - - - - -- - - - -  -  --- ---  -  - - - - -- - - - - - - *               * - - - - - - - - - - - -- - --- --- - -- - - - - - - - - - - - *               * - - - - - - - - - - - - - - -- -- - - - - - - - - - - - - - - *              * - - - - - - - - - - - - - - - - - - - - - - - - - - - - - - - - *              * - - - - - - - - - - - - - - -- -- - - - - - - - - - - - - - - *               * - - - - - - - - - - - -- - --- --- - -- - - - - - - - - - - - *               * - - - - - - -- - - - -  -  --- ---  -  - - - - -- - - - - - - *               ** - - - - - - - -- - -- -  ---- ----  - -- - -- - - - - - - - **                * - - -  - - - -- - -- --  ---- ----  -- -- - -- - - -  - - - *                  * - - -  - - -  - -- --  ----- -----  -- -- -  - - -  - - - *                    * - - -- - -- -  -  --  ----- -----  --  -  - -- - -- - - *                      * - -- - -- -  -  --   ----- -----   --  -  - -- - -- - *                        * -  - -- -- --  --  ------ ------  --  -- -- -- -  - *                          ** - -- -- --  --   ------ ------   --  -- -- -- - **                             *  -  -  --  --   ------ ------   --  --  -  -  *                "
       ]
      },
      {
       "output_type": "stream",
       "stream": "stdout",
       "text": [
        "             *                                                   *                         *                                                       *                      *                                                         *                   *                                                             *                *                                                               *              *                                                                 *             *                                                                 *            *                                                                   *          *                                                                     *         *                                                                     *         *                                                                     *         *                                                                     *        *                                                                       *        *                                                                     *         *                                                                     *         *                                                                     *         *                                                                     *          *                                                                   *            *                                                                 *             *                                                                 *              *                                                               *                *                                                             *                   *                                                         *                      *                                                       *            "
       ]
      },
      {
       "output_type": "stream",
       "stream": "stdout",
       "text": [
        "         *                                                           *                 **                                                             **              *                                                                 *            *                                                                   *          *                                                                     *        *                                                                       *      *                                                                         *     *                                                                         *    *                                                                           *   *                                                                           *   *                                                                           *   *                                                                           *  *                                                                             *  *                                                                           *   *                                                                           *   *                                                                           *   *                                                                           *    *                                                                         *     *                                                                         *      *                                                                       *        *                                                                     *          *                                                                   *            *                                                                 *              **                                                             **        "
       ]
      },
      {
       "output_type": "stream",
       "stream": "stdout",
       "text": [
        "     *                                                                   *          *                                                                     *        *                                                                       *      *                                                                         *    *                                                                           *  *                                                                             **                                                                               *                                                                                                                                                                                                                                                                                                                                                                                                                                                                                                                                                                                                                                                                                                                                                                                                                               *                                                                               *                                                                                *                                                                             *  *                                                                           *    *                                                                         *      *                                                                       *        *                                                                     *     "
       ]
      },
      {
       "output_type": "stream",
       "stream": "stdout",
       "text": [
        " **                                                                         **  *                                                                             **                                                                                                                                                                                                                                                                                                                                                                                                                                                                                                                                                                                                                                                                                                                                                                                                                                                                                                                                                                                                                                                                                                                                                                                                                                                                                                                                                                                                                                                                                                                                                                                                                                                               *                                                                                *                                                                             * "
       ]
      },
      {
       "output_type": "stream",
       "stream": "stdout",
       "text": [
        "                                                                                                                                                                                                                                                                                                                                                                                                                                                                                                                                                                                                                                                                                                                                                                                                                                                                                                                                                                                                                                                                                                                                                                                                                                                                                                                                                                                                                                                                                                                                                                                                                                                                                                                                                                                                                                                                                                                                                                                               "
       ]
      }
     ],
     "prompt_number": 23
    }
   ],
   "metadata": {}
  }
 ]
}